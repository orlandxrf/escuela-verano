{
  "nbformat": 4,
  "nbformat_minor": 0,
  "metadata": {
    "colab": {
      "provenance": [],
      "authorship_tag": "ABX9TyMvKzJX+Ve84l92qm0GoiUN",
      "include_colab_link": true
    },
    "kernelspec": {
      "name": "python3",
      "display_name": "Python 3"
    },
    "language_info": {
      "name": "python"
    }
  },
  "cells": [
    {
      "cell_type": "markdown",
      "metadata": {
        "id": "view-in-github",
        "colab_type": "text"
      },
      "source": [
        "<a href=\"https://colab.research.google.com/github/orlandxrf/escuela-verano/blob/main/1_Escuela_Verano_Sintaxis_Python.ipynb\" target=\"_parent\"><img src=\"https://colab.research.google.com/assets/colab-badge.svg\" alt=\"Open In Colab\"/></a>"
      ]
    },
    {
      "cell_type": "markdown",
      "source": [
        "<img src=\"https://raw.githubusercontent.com/orlandxrf/escuela-verano/main/img/logos.png\" height=\"100\" />\n",
        "\n",
        "<h1>Escuela de verano del Laboratorio de Estructuras y Dinámicas Sociales</h1>\n",
        "Escuela de Verano, 25-28 de Junio de 2024\n",
        "<hr>\n",
        "<h2><strong>Descubre el poder del PLN: aprende a pre-procesar, analizar y extraer información de textos<strong></h2>\n",
        "<hr>"
      ],
      "metadata": {
        "id": "oHT5goyLgg7X"
      }
    },
    {
      "cell_type": "markdown",
      "source": [
        "# Sintaxis básica de Python\n",
        "\n",
        "Python tiene una sintaxis simple y fácil de leer. Aquí hay algunos conceptos básicos que debes conocer:"
      ],
      "metadata": {
        "id": "nRWiNJVb6tD_"
      }
    },
    {
      "cell_type": "markdown",
      "source": [
        "## Variables\n",
        "\n",
        "Las variables almacenan datos. Se declaran utilizando el nombre de la variable seguido de un signo de igual y el valor que se le asigna."
      ],
      "metadata": {
        "id": "G82BrDxk63dj"
      }
    },
    {
      "cell_type": "code",
      "source": [
        "# declarar variable llamada \"saludo\"\n",
        "saludo = \"Hola mundo!\"\n",
        "\n",
        "# mostrar el contenido de la variable\n",
        "print(saludo)\n",
        "\n",
        "# declarar variables para almacenar la fecha\n",
        "dia = 25\n",
        "mes = \"junio\"\n",
        "anio = 2024\n",
        "\n",
        "# imprimir/mostrar el contenido concatenado\n",
        "print(f\"Escuela de verano, hoy es {dia} de {mes} de {anio}\")"
      ],
      "metadata": {
        "colab": {
          "base_uri": "https://localhost:8080/"
        },
        "id": "O2qT_XaF7oaV",
        "outputId": "4e3cd192-bdda-4f64-eaa8-39cbcb23f368"
      },
      "execution_count": null,
      "outputs": [
        {
          "output_type": "stream",
          "name": "stdout",
          "text": [
            "Hola mundo!\n",
            "Escuela de verano, hoy es 25 de junio de 2024\n"
          ]
        }
      ]
    },
    {
      "cell_type": "markdown",
      "source": [
        "## Tipos de datos\n",
        "\n",
        "Python tiene varios tipos de datos, como números (enteros, flotantes), cadenas de texto, booleanos y listas."
      ],
      "metadata": {
        "id": "XrWzZncc9D2Q"
      }
    },
    {
      "cell_type": "markdown",
      "source": [
        "### Números\n",
        "\n",
        "Los números se utilizan para representar valores numéricos. En Python, existen dos tipos principales de números:\n",
        "   -  **Enteros**: Representan números enteros sin decimales, como 10, -20, 500.\n",
        "   -  **Decimales (Flotantes)**: Representan números con decimales, como 3.14, -5.2, 100.50."
      ],
      "metadata": {
        "id": "25xBEdCd-dpa"
      }
    },
    {
      "cell_type": "code",
      "source": [
        "# números enteros\n",
        "mi_entero = 15\n",
        "print(mi_entero)  # Salida: 15"
      ],
      "metadata": {
        "colab": {
          "base_uri": "https://localhost:8080/"
        },
        "id": "hAc4t1FF9dbp",
        "outputId": "b56ac24c-76d5-44d8-8262-545eaf941b3e"
      },
      "execution_count": null,
      "outputs": [
        {
          "output_type": "stream",
          "name": "stdout",
          "text": [
            "15\n"
          ]
        }
      ]
    },
    {
      "cell_type": "code",
      "source": [],
      "metadata": {
        "id": "p_87t9IB-maU"
      },
      "execution_count": null,
      "outputs": []
    },
    {
      "cell_type": "code",
      "source": [
        "# números decimales\n",
        "mi_decimal = 2.71828\n",
        "print(mi_decimal)  # Salida: 2.71828"
      ],
      "metadata": {
        "colab": {
          "base_uri": "https://localhost:8080/"
        },
        "id": "btobH7jb97LF",
        "outputId": "c1abffe2-dac8-472e-ca52-34b10de0f730"
      },
      "execution_count": null,
      "outputs": [
        {
          "output_type": "stream",
          "name": "stdout",
          "text": [
            "2.71828\n"
          ]
        }
      ]
    },
    {
      "cell_type": "markdown",
      "source": [
        "### Cadenas de texto\n",
        "\n",
        "Las cadenas de texto se utilizan para representar secuencias de caracteres, como palabras, frases y oraciones. Se escriben entre comillas simples (') o dobles (\")."
      ],
      "metadata": {
        "id": "qJmz0idE-C6I"
      }
    },
    {
      "cell_type": "code",
      "source": [
        "# cadena de texto\n",
        "mi_cadena = \"Hola, mundo!\"\n",
        "print(mi_cadena)  # Salida: Hola, mundo!"
      ],
      "metadata": {
        "colab": {
          "base_uri": "https://localhost:8080/"
        },
        "id": "yFZzn2fg-Pnh",
        "outputId": "4f4290e3-f555-4557-9fc0-7cc3988d4452"
      },
      "execution_count": null,
      "outputs": [
        {
          "output_type": "stream",
          "name": "stdout",
          "text": [
            "Hola, mundo!\n"
          ]
        }
      ]
    },
    {
      "cell_type": "markdown",
      "source": [
        "### Booleanos\n",
        "\n",
        "Los booleanos representan valores de verdad o falsedad. Se utilizan para indicar si una condición es cierta o falsa."
      ],
      "metadata": {
        "id": "dDex-y8S-osO"
      }
    },
    {
      "cell_type": "code",
      "source": [
        "# booleanos\n",
        "es_verdadero = True\n",
        "es_falso = False\n",
        "print(es_verdadero)  # Salida: True\n",
        "print(es_falso)  # Salida: False\n"
      ],
      "metadata": {
        "colab": {
          "base_uri": "https://localhost:8080/"
        },
        "id": "9AWkVtdk-vXA",
        "outputId": "1fe7be05-da35-4693-c819-7f31030ece9d"
      },
      "execution_count": null,
      "outputs": [
        {
          "output_type": "stream",
          "name": "stdout",
          "text": [
            "True\n",
            "False\n"
          ]
        }
      ]
    },
    {
      "cell_type": "markdown",
      "source": [
        "### Listas\n",
        "\n",
        "Las listas son colecciones ordenadas de elementos de cualquier tipo de dato. Se escriben entre corchetes [] y los elementos se separan por comas."
      ],
      "metadata": {
        "id": "XZyKj1PI-3cN"
      }
    },
    {
      "cell_type": "code",
      "source": [
        "# listas\n",
        "mi_lista = [1, 2.5, \"Hola\", True]\n",
        "print(mi_lista)  # Salida: [1, 2.5, 'Hola', True]"
      ],
      "metadata": {
        "colab": {
          "base_uri": "https://localhost:8080/"
        },
        "id": "3ilyPkPR-9op",
        "outputId": "79eaaa7f-e37a-4efd-9300-98308a2c8273"
      },
      "execution_count": null,
      "outputs": [
        {
          "output_type": "stream",
          "name": "stdout",
          "text": [
            "[1, 2.5, 'Hola', True]\n"
          ]
        }
      ]
    },
    {
      "cell_type": "markdown",
      "source": [
        "### Tuplas\n",
        "\n",
        "Las tuplas son colecciones ordenadas de elementos de cualquier tipo de dato, similares a las listas. Sin embargo, las tuplas son inmutables, lo que significa que no se pueden modificar una vez creadas. Se escriben entre paréntesis () y los elementos se separan por comas."
      ],
      "metadata": {
        "id": "iHLVkkf-_DOu"
      }
    },
    {
      "cell_type": "code",
      "source": [
        "# tuplas\n",
        "mi_tupla = (3, \"Python\", 10.20)\n",
        "print(mi_tupla)  # Salida: (3, 'Python', 10.2)"
      ],
      "metadata": {
        "colab": {
          "base_uri": "https://localhost:8080/"
        },
        "id": "gENhI-Kv_JbW",
        "outputId": "2381b8d2-4907-43e4-b70d-8b45c62504e1"
      },
      "execution_count": null,
      "outputs": [
        {
          "output_type": "stream",
          "name": "stdout",
          "text": [
            "(3, 'Python', 10.2)\n"
          ]
        }
      ]
    },
    {
      "cell_type": "markdown",
      "source": [
        "### Diccionarios\n",
        "\n",
        "Los diccionarios son colecciones no ordenadas de pares clave-valor. Se utilizan para almacenar datos en forma de clave-valor, donde cada clave es única y está asociada a un valor. Se escriben entre llaves {} y los pares se separan por comas y dos puntos."
      ],
      "metadata": {
        "id": "PX4zNyo2_QYW"
      }
    },
    {
      "cell_type": "code",
      "source": [
        "# diccionarios\n",
        "mi_diccionario = {\"nombre\": \"Juan\", \"edad\": 30, \"ciudad\": \"Ciudad de México\"}\n",
        "print(mi_diccionario)  # Salida: {'nombre': 'Juan', 'edad': 30, 'ciudad': 'Ciudad de México'}"
      ],
      "metadata": {
        "colab": {
          "base_uri": "https://localhost:8080/"
        },
        "id": "IJAISsmx_Ysf",
        "outputId": "76f80fdf-650e-40f9-db41-0783100241b5"
      },
      "execution_count": null,
      "outputs": [
        {
          "output_type": "stream",
          "name": "stdout",
          "text": [
            "{'nombre': 'Juan', 'edad': 30, 'ciudad': 'Ciudad de México'}\n"
          ]
        }
      ]
    },
    {
      "cell_type": "markdown",
      "source": [
        "## Operadores\n",
        "\n",
        "Los operadores se utilizan para realizar operaciones matemáticas o lógicas. Algunos operadores comunes incluyen `+`, `-`, `*`, `/`, `==`, `!=`, `>`, `<`, `and`, `or`."
      ],
      "metadata": {
        "id": "WDmM-9N2_lQP"
      }
    },
    {
      "cell_type": "markdown",
      "source": [
        "## Estructuras de control\n",
        "\n",
        "Las estructuras de control se utilizan para controlar el flujo del programa. Algunas estructuras de control comunes incluyen `if`, `else`, `for`, `while`."
      ],
      "metadata": {
        "id": "2rNin6SCABYN"
      }
    },
    {
      "cell_type": "markdown",
      "source": [
        "### `if`, `else`\n",
        "\n",
        "La instrucción `if` se utiliza para ejecutar un bloque de código solo si se cumple una condición específica.\n",
        "\n",
        "```python\n",
        "if condición:\n",
        "    # Bloque de código a ejecutar si la condición es verdadera\n",
        "else:\n",
        "    # Bloque de código a ejecutar si la condición es falsa\n",
        "```"
      ],
      "metadata": {
        "id": "9DnpQJ1dALnH"
      }
    },
    {
      "cell_type": "code",
      "source": [
        "# ejemplo de uso de if, else\n",
        "edad = 18\n",
        "\n",
        "if edad >= 18:\n",
        "    print(\"Eres mayor de edad\")\n",
        "else:\n",
        "    print(\"Eres menor de edad\")"
      ],
      "metadata": {
        "colab": {
          "base_uri": "https://localhost:8080/"
        },
        "id": "WMlAzs4jA4yf",
        "outputId": "0b4211ef-fa86-4cfe-c995-c61a2a6262b6"
      },
      "execution_count": null,
      "outputs": [
        {
          "output_type": "stream",
          "name": "stdout",
          "text": [
            "Eres mayor de edad\n"
          ]
        }
      ]
    },
    {
      "cell_type": "markdown",
      "source": [
        "### `if`, `elif`, `else`\n",
        "\n",
        "La instrucción elif se utiliza para agregar condiciones adicionales a una instrucción if. Permite evaluar varias condiciones y ejecutar el bloque de código correspondiente a la condición que se cumple.\n",
        "\n",
        "```python\n",
        "if condición1:\n",
        "    # Bloque de código a ejecutar si se cumple la condición1\n",
        "elif condición2:\n",
        "    # Bloque de código a ejecutar si se cumple la condición2\n",
        "elif condición3:\n",
        "    # Bloque de código a ejecutar si se cumple la condición3\n",
        "else:\n",
        "    # Bloque de código a ejecutar si ninguna condición se cumple\n",
        "```"
      ],
      "metadata": {
        "id": "0_ny0_FqAw-d"
      }
    },
    {
      "cell_type": "code",
      "source": [
        "# ejemplo de if, elif, else\n",
        "calificacion = 85\n",
        "\n",
        "if calificacion >= 90:\n",
        "    print(\"Excelente\")\n",
        "elif calificacion >= 80:\n",
        "    print(\"Muy bien\")\n",
        "elif calificacion >= 70:\n",
        "    print(\"Bien\")\n",
        "else:\n",
        "    print(\"Aprobado\")"
      ],
      "metadata": {
        "colab": {
          "base_uri": "https://localhost:8080/"
        },
        "id": "NJcPTiVxBHXq",
        "outputId": "c9cc4e93-6a43-4a28-9800-1511f1874555"
      },
      "execution_count": null,
      "outputs": [
        {
          "output_type": "stream",
          "name": "stdout",
          "text": [
            "Muy bien\n"
          ]
        }
      ]
    },
    {
      "cell_type": "markdown",
      "source": [
        "### Bucle `for`\n",
        "\n",
        "El bucle for se utiliza para repetir un bloque de código un número determinado de veces o para iterar sobre una secuencia de elementos.\n",
        "\n",
        "```python\n",
        "for variable in secuencia:\n",
        "    # Bloque de código a ejecutar para cada elemento de la secuencia\n",
        "```"
      ],
      "metadata": {
        "id": "wGKHlBhVBP5m"
      }
    },
    {
      "cell_type": "code",
      "source": [
        "# ejemplo de bucle for\n",
        "nombres = [\"Juan\", \"María\", \"Pedro\", \"Ana\"]\n",
        "\n",
        "for nombre in nombres:\n",
        "    print(nombre)"
      ],
      "metadata": {
        "colab": {
          "base_uri": "https://localhost:8080/"
        },
        "id": "mpxNmn7tBniA",
        "outputId": "137794fb-dffb-4205-f577-e44f312d3417"
      },
      "execution_count": null,
      "outputs": [
        {
          "output_type": "stream",
          "name": "stdout",
          "text": [
            "Juan\n",
            "María\n",
            "Pedro\n",
            "Ana\n"
          ]
        }
      ]
    },
    {
      "cell_type": "markdown",
      "source": [
        "### Bucle `while`\n",
        "\n",
        "El bucle while se utiliza para repetir un bloque de código mientras se cumpla una condición específica.\n",
        "\n",
        "```python\n",
        "while condición:\n",
        "    # Bloque de código a ejecutar mientras la condición sea verdadera\n",
        "```"
      ],
      "metadata": {
        "id": "plLOODxaCDQM"
      }
    },
    {
      "cell_type": "code",
      "source": [
        "# ejemplo del bucle while\n",
        "contador = 1\n",
        "\n",
        "while contador <= 10:\n",
        "    print(contador)\n",
        "    contador += 1"
      ],
      "metadata": {
        "colab": {
          "base_uri": "https://localhost:8080/"
        },
        "id": "_spJDRttCST3",
        "outputId": "7bf3ceca-2b5a-4621-a63d-7dd957bd9f04"
      },
      "execution_count": null,
      "outputs": [
        {
          "output_type": "stream",
          "name": "stdout",
          "text": [
            "1\n",
            "2\n",
            "3\n",
            "4\n",
            "5\n",
            "6\n",
            "7\n",
            "8\n",
            "9\n",
            "10\n"
          ]
        }
      ]
    },
    {
      "cell_type": "markdown",
      "source": [
        "### Instrucción `break`\n",
        "\n",
        "La instrucción `break` se utiliza para salir de un bucle for o while en cualquier momento."
      ],
      "metadata": {
        "id": "cJLKqNv7CXpR"
      }
    },
    {
      "cell_type": "code",
      "source": [
        "# ejemplo de uso de la instrucción break\n",
        "for numero in range(1, 10):\n",
        "    if numero == 7:\n",
        "        break\n",
        "    print(numero)"
      ],
      "metadata": {
        "colab": {
          "base_uri": "https://localhost:8080/"
        },
        "id": "VLp9XBTPCnYi",
        "outputId": "cee39a91-051a-48c3-99c8-5521e7dedbb4"
      },
      "execution_count": null,
      "outputs": [
        {
          "output_type": "stream",
          "name": "stdout",
          "text": [
            "1\n",
            "2\n",
            "3\n",
            "4\n",
            "5\n",
            "6\n"
          ]
        }
      ]
    },
    {
      "cell_type": "markdown",
      "source": [
        "###  Instrucción `continue`\n",
        "\n",
        "La instrucción `continue` se utiliza para omitir la siguiente iteración de un bucle `for` y **continuar** con la siguiente."
      ],
      "metadata": {
        "id": "pCn6EfgiC3Ic"
      }
    },
    {
      "cell_type": "code",
      "source": [
        "# ejemplo de uso de la instrucción continue\n",
        "for numero in range(1, 10):\n",
        "    if numero == 2 or numero == 4:\n",
        "        continue\n",
        "    print(numero)"
      ],
      "metadata": {
        "colab": {
          "base_uri": "https://localhost:8080/"
        },
        "id": "3C8ewSDTDHBv",
        "outputId": "c7a5c048-4bda-4919-c616-0e32fb7f66ae"
      },
      "execution_count": null,
      "outputs": [
        {
          "output_type": "stream",
          "name": "stdout",
          "text": [
            "1\n",
            "3\n",
            "5\n",
            "6\n",
            "7\n",
            "8\n",
            "9\n"
          ]
        }
      ]
    },
    {
      "cell_type": "markdown",
      "source": [
        "## Funciones\n",
        "\n",
        "Las funciones son bloques de código reutilizables que realizan una tarea específica. Se definen utilizando la palabra clave def seguida del nombre de la función, los parámetros entre paréntesis y los bloques de código entre dos puntos.\n",
        "\n",
        "La sintaxis básica para definir una función en Python es la siguiente:\n",
        "\n",
        "```python\n",
        "def nombre_funcion(parámetros):\n",
        "    \"\"\"\n",
        "    Documentación de la función (opcional)\n",
        "    \"\"\"\n",
        "    # Bloque de código que se ejecuta cuando se llama a la función\n",
        "    return valor_de_retorno\n",
        "```"
      ],
      "metadata": {
        "id": "nbVclNKHD3Hv"
      }
    },
    {
      "cell_type": "code",
      "source": [
        "# ejemplo de función\n",
        "\n",
        "# definir la función\n",
        "def saludar(nombre):\n",
        "    \"\"\"\n",
        "    Función que saluda a una persona por su nombre\n",
        "\n",
        "    args:\n",
        "      nombre: una cadena de texto\n",
        "\n",
        "    returns:\n",
        "      imprime un saludo que incluye la cadena de texto recibida\n",
        "    \"\"\"\n",
        "    print(\"¡Hola,\", nombre, \"! ¿Cómo estás?\")\n",
        "\n",
        "\n",
        "saludar(\"Juan\")  # Se llama a la función y se pasa el argumento \"Juan\""
      ],
      "metadata": {
        "colab": {
          "base_uri": "https://localhost:8080/"
        },
        "id": "vqRpJBvrEOIm",
        "outputId": "da161012-bc45-47a4-9ed1-6434b8114200"
      },
      "execution_count": null,
      "outputs": [
        {
          "output_type": "stream",
          "name": "stdout",
          "text": [
            "¡Hola, Juan ! ¿Cómo estás?\n"
          ]
        }
      ]
    },
    {
      "cell_type": "code",
      "source": [
        "# ejemplo de función sin argumentos\n",
        "def generar_aleatorio():\n",
        "    \"\"\"\n",
        "    Función que genera un número aleatorio entre 1 y 100\n",
        "\n",
        "    args:\n",
        "      no recibe ningún argumento\n",
        "\n",
        "    returns:\n",
        "      regresa un número aleatorio entre el rango de 1 y 100\n",
        "    \"\"\"\n",
        "    import random\n",
        "    return random.randint(1, 100)\n",
        "\n",
        "\n",
        "numero_aleatorio = generar_aleatorio()\n",
        "print(numero_aleatorio)  # Se llama a la función y se almacena el valor de retorno"
      ],
      "metadata": {
        "colab": {
          "base_uri": "https://localhost:8080/"
        },
        "id": "kwotUMwKFLKk",
        "outputId": "150c5116-6435-4df6-c247-51fda267d03b"
      },
      "execution_count": null,
      "outputs": [
        {
          "output_type": "stream",
          "name": "stdout",
          "text": [
            "36\n"
          ]
        }
      ]
    },
    {
      "cell_type": "code",
      "source": [
        "# ejemplo de función con múltiples argumentos\n",
        "def calcular_area_rectangulo(base, altura):\n",
        "    \"\"\"\n",
        "    Función que calcula el área de un rectángulo\n",
        "\n",
        "    args:\n",
        "      base: numero para la base\n",
        "      altura: numero para la altura\n",
        "    \"\"\"\n",
        "    return base * altura\n",
        "\n",
        "area_rectangulo = calcular_area_rectangulo(5, 3)\n",
        "print(\"El área del rectángulo es:\", area_rectangulo)"
      ],
      "metadata": {
        "colab": {
          "base_uri": "https://localhost:8080/"
        },
        "id": "2-upTVM4FUAl",
        "outputId": "e743cf3b-7d9a-4426-e460-a2f88c8f3010"
      },
      "execution_count": null,
      "outputs": [
        {
          "output_type": "stream",
          "name": "stdout",
          "text": [
            "El área del rectángulo es: 15\n"
          ]
        }
      ]
    },
    {
      "cell_type": "code",
      "source": [
        "# ejemplo de función con valores de retorno\n",
        "def sumar_y_restar(numero1, numero2):\n",
        "    \"\"\"\n",
        "    Función que suma y resta dos números\n",
        "\n",
        "    args:\n",
        "      numero1: recibe una cantidad numerica\n",
        "      numero2: recibe una cantidad numerica\n",
        "\n",
        "    returns\n",
        "      Regresa una tupla con el resultado de la suma y de la resta de ambos numeros\n",
        "    \"\"\"\n",
        "    suma = numero1 + numero2\n",
        "    resta = numero1 - numero2\n",
        "    return suma, resta\n",
        "\n",
        "resultado = sumar_y_restar(10, 5)\n",
        "print(\"La suma es:\", resultado[0])\n",
        "print(\"La resta es:\", resultado[1])\n",
        "\n",
        "suma, resta = sumar_y_restar(10, 5)\n",
        "print(\"La suma es:\", suma)\n",
        "print(\"La resta es:\", resta)"
      ],
      "metadata": {
        "colab": {
          "base_uri": "https://localhost:8080/"
        },
        "id": "IScjeqPWFbo-",
        "outputId": "dba1c609-edc8-4bf8-c241-5b3a658b0413"
      },
      "execution_count": null,
      "outputs": [
        {
          "output_type": "stream",
          "name": "stdout",
          "text": [
            "La suma es: 15\n",
            "La resta es: 5\n",
            "La suma es: 15\n",
            "La resta es: 5\n"
          ]
        }
      ]
    }
  ]
}