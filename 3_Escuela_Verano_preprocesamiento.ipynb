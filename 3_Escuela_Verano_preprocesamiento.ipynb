{
  "nbformat": 4,
  "nbformat_minor": 0,
  "metadata": {
    "colab": {
      "provenance": [],
      "authorship_tag": "ABX9TyNbuyPN2Y29okaTTBrGD9G2",
      "include_colab_link": true
    },
    "kernelspec": {
      "name": "python3",
      "display_name": "Python 3"
    },
    "language_info": {
      "name": "python"
    }
  },
  "cells": [
    {
      "cell_type": "markdown",
      "metadata": {
        "id": "view-in-github",
        "colab_type": "text"
      },
      "source": [
        "<a href=\"https://colab.research.google.com/github/orlandxrf/escuela-verano/blob/main/3_Escuela_Verano_preprocesamiento.ipynb\" target=\"_parent\"><img src=\"https://colab.research.google.com/assets/colab-badge.svg\" alt=\"Open In Colab\"/></a>"
      ]
    },
    {
      "cell_type": "markdown",
      "source": [
        "<img src=\"https://raw.githubusercontent.com/orlandxrf/escuela-verano/main/img/logos.png\" height=\"100\" />\n",
        "\n",
        "<h1>Escuela de verano del Laboratorio de Estructuras y Dinámicas Sociales</h1>\n",
        "Escuela de Verano, 25-28 de Junio de 2024\n",
        "<hr>\n",
        "<h2><strong>Descubre el poder del PLN: aprende a pre-procesar, analizar y extraer información de textos<strong></h2>\n",
        "<hr>"
      ],
      "metadata": {
        "id": "oHT5goyLgg7X"
      }
    },
    {
      "cell_type": "markdown",
      "source": [
        "# Preprocesamiento de archivos"
      ],
      "metadata": {
        "id": "cYWRBhBnvw8i"
      }
    },
    {
      "cell_type": "markdown",
      "source": [
        "En el preprocesamiento de archivos de textos incluyen los pasos para: limpieza de caracteres no deseados y/o eliminar palabras vacías (stop-words), la normalización que consiste de la tokenización, la lematización (reducir las palabras a su forma base) y el etiquetado POS (Part-of-Speech).\n",
        "\n",
        "Adicionalmente, se puede realizar un análisis de dependencias de los textos para identificar las relaciones entre las palabras."
      ],
      "metadata": {
        "id": "wzRUJyliv4VS"
      }
    },
    {
      "cell_type": "markdown",
      "source": [
        "## Obtener archivos"
      ],
      "metadata": {
        "id": "5-pNTFBiGXoQ"
      }
    },
    {
      "cell_type": "markdown",
      "source": [
        "Para este taller se almacenan los archivos en [Github](https://github.com/orlandxrf/escuela-verano) adicional a todo el material usado.\n",
        "\n",
        "Para evitar subir los archivos a Google Colab cada vez que se quiera trabajar con el Notebook, se realizará el proceso de forma automática. Para la descarga de los archivos se utiliza el comando `wget`\n",
        "\n",
        "**Wget**, que significa \"World Wide Web GET\", es una utilidad de línea de comandos en sistemas operativos tipo Unix, como Linux, que se utiliza para descargar archivos de la web. Es una herramienta poderosa y versátil que permite descargar una amplia variedad de contenido.\n",
        "\n",
        "La sintaxis para descargar un archivo es la siguiente:\n",
        "\n",
        "```bash\n",
        "!wget -P data/ https://raw.githubusercontent.com/orlandxrf/escuela-verano/main/data/El_maravilloso_Mago_de_Oz.pdf\n",
        "```\n",
        "\n",
        "El resultado esperado por cada archivo descargado es similar al siguiente\n",
        "\n",
        "```bash\n",
        "--2024-06-22 18:35:06--  https://github.com/orlandxrf/escuela-verano/blob/main/data/El_maravilloso_Mago_de_Oz.pdf\n",
        "Resolving github.com (github.com)... 140.82.121.3\n",
        "Connecting to github.com (github.com)|140.82.121.3|:443... connected.\n",
        "HTTP request sent, awaiting response... 200 OK\n",
        "Length: unspecified [text/html]\n",
        "Saving to: ‘data/El_maravilloso_Mago_de_Oz.pdf’\n",
        "\n",
        "El_maravilloso_Mago     [ <=>                ] 241.79K  --.-KB/s    in 0.03s   \n",
        "\n",
        "2024-06-22 18:35:06 (8.05 MB/s) - ‘data/El_maravilloso_Mago_de_Oz.pdf’ saved [247596]\n",
        "```\n",
        "\n",
        "Es importante señalar que si la carpeta donde se desea almacenar el archivo no existe, se crea. En caso de descargar el archivo cuando previamente existe, lo que ocurre es que se sobre escribe el archivo descargado, es decir el archivo descargado reemplaza al previo, siempre y cuando tengan el mismo nombre."
      ],
      "metadata": {
        "id": "zldabsuBdNr1"
      }
    },
    {
      "cell_type": "code",
      "source": [
        "# descargar los archivos utilizando \"wget\"\n",
        "\n",
        "#!wget -P data/ https://raw.githubusercontent.com/orlandxrf/escuela-verano/main/data/Escuela_de_verano.txt\n",
        "!wget -P data/ https://raw.githubusercontent.com/orlandxrf/escuela-verano/main/data/Los_Caudillos_de_1830.txt\n",
        "#!wget -P data/ https://raw.githubusercontent.com/orlandxrf/escuela-verano/main/data/ia_tweets.csv\n",
        "#!wget -P data/fake_news/ https://raw.githubusercontent.com/orlandxrf/escuela-verano/main/data/fake_news/dev.xlsx\n",
        "#!wget -P data/fake_news/ https://raw.githubusercontent.com/orlandxrf/escuela-verano/main/data/fake_news/train.xlsx\n",
        "#!wget -P data/fake_news/ https://raw.githubusercontent.com/orlandxrf/escuela-verano/main/data/fake_news/test.xlsx\n",
        "#!wget -P data/ https://github.com/orlandxrf/escuela-verano/blob/main/data/El_maravilloso_Mago_de_Oz.pdf"
      ],
      "metadata": {
        "colab": {
          "base_uri": "https://localhost:8080/"
        },
        "id": "0PTIygDWJdVN",
        "outputId": "c6d3c3be-33bd-4933-ea93-68c33115f3ac"
      },
      "execution_count": null,
      "outputs": [
        {
          "output_type": "stream",
          "name": "stdout",
          "text": [
            "--2024-06-23 21:04:00--  https://raw.githubusercontent.com/orlandxrf/escuela-verano/main/data/Los_Caudillos_de_1830.txt\n",
            "Resolving raw.githubusercontent.com (raw.githubusercontent.com)... 185.199.109.133, 185.199.111.133, 185.199.108.133, ...\n",
            "Connecting to raw.githubusercontent.com (raw.githubusercontent.com)|185.199.109.133|:443... connected.\n",
            "HTTP request sent, awaiting response... 200 OK\n",
            "Length: 242209 (237K) [text/plain]\n",
            "Saving to: ‘data/Los_Caudillos_de_1830.txt.2’\n",
            "\n",
            "\r          Los_Caudi   0%[                    ]       0  --.-KB/s               \rLos_Caudillos_de_18 100%[===================>] 236.53K  --.-KB/s    in 0.04s   \n",
            "\n",
            "2024-06-23 21:04:00 (6.43 MB/s) - ‘data/Los_Caudillos_de_1830.txt.2’ saved [242209/242209]\n",
            "\n"
          ]
        }
      ]
    },
    {
      "cell_type": "markdown",
      "source": [
        "## 1. Bibliotecas requeridas"
      ],
      "metadata": {
        "id": "GLyTpeMOAX35"
      }
    },
    {
      "cell_type": "markdown",
      "source": [
        "Las bibliotecas a utilizar se listan a continuación:\n",
        "\n",
        "* `re`. Para expresiones regulares y procesamiento de texto. Biblioteca instalada por default con Python.\n",
        "* `spacy`. [Spacy](https://spacy.io/usage) es una biblioteca completa para el procesamiento del lenguaje natural (PLN).\n",
        "* `matplotlib`. Biblioteca para graficación de datos.\n",
        "\n",
        "Instalar las bibliotecas con el comando `pip`"
      ],
      "metadata": {
        "id": "0mPEEqgcAfAQ"
      }
    },
    {
      "cell_type": "code",
      "source": [
        "# instalar la biblioteca spacy\n",
        "!pip install -U pip setuptools wheel\n",
        "!pip install -U spacy\n",
        "\n",
        "# decargar el modelo en idioma español\n",
        "!python -m spacy download es_core_news_sm"
      ],
      "metadata": {
        "colab": {
          "base_uri": "https://localhost:8080/"
        },
        "id": "bPCQIBAtArS7",
        "outputId": "4066899d-1280-4180-9b66-2edbafe6c24b"
      },
      "execution_count": null,
      "outputs": [
        {
          "output_type": "stream",
          "name": "stdout",
          "text": [
            "Requirement already satisfied: pip in /usr/local/lib/python3.10/dist-packages (24.1)\n",
            "Requirement already satisfied: setuptools in /usr/local/lib/python3.10/dist-packages (70.1.0)\n",
            "Requirement already satisfied: wheel in /usr/local/lib/python3.10/dist-packages (0.43.0)\n",
            "\u001b[33mWARNING: Running pip as the 'root' user can result in broken permissions and conflicting behaviour with the system package manager, possibly rendering your system unusable.It is recommended to use a virtual environment instead: https://pip.pypa.io/warnings/venv. Use the --root-user-action option if you know what you are doing and want to suppress this warning.\u001b[0m\u001b[33m\n",
            "\u001b[0mRequirement already satisfied: spacy in /usr/local/lib/python3.10/dist-packages (3.7.5)\n",
            "Requirement already satisfied: spacy-legacy<3.1.0,>=3.0.11 in /usr/local/lib/python3.10/dist-packages (from spacy) (3.0.12)\n",
            "Requirement already satisfied: spacy-loggers<2.0.0,>=1.0.0 in /usr/local/lib/python3.10/dist-packages (from spacy) (1.0.5)\n",
            "Requirement already satisfied: murmurhash<1.1.0,>=0.28.0 in /usr/local/lib/python3.10/dist-packages (from spacy) (1.0.10)\n",
            "Requirement already satisfied: cymem<2.1.0,>=2.0.2 in /usr/local/lib/python3.10/dist-packages (from spacy) (2.0.8)\n",
            "Requirement already satisfied: preshed<3.1.0,>=3.0.2 in /usr/local/lib/python3.10/dist-packages (from spacy) (3.0.9)\n",
            "Requirement already satisfied: thinc<8.3.0,>=8.2.2 in /usr/local/lib/python3.10/dist-packages (from spacy) (8.2.4)\n",
            "Requirement already satisfied: wasabi<1.2.0,>=0.9.1 in /usr/local/lib/python3.10/dist-packages (from spacy) (1.1.3)\n",
            "Requirement already satisfied: srsly<3.0.0,>=2.4.3 in /usr/local/lib/python3.10/dist-packages (from spacy) (2.4.8)\n",
            "Requirement already satisfied: catalogue<2.1.0,>=2.0.6 in /usr/local/lib/python3.10/dist-packages (from spacy) (2.0.10)\n",
            "Requirement already satisfied: weasel<0.5.0,>=0.1.0 in /usr/local/lib/python3.10/dist-packages (from spacy) (0.4.1)\n",
            "Requirement already satisfied: typer<1.0.0,>=0.3.0 in /usr/local/lib/python3.10/dist-packages (from spacy) (0.12.3)\n",
            "Requirement already satisfied: tqdm<5.0.0,>=4.38.0 in /usr/local/lib/python3.10/dist-packages (from spacy) (4.66.4)\n",
            "Requirement already satisfied: requests<3.0.0,>=2.13.0 in /usr/local/lib/python3.10/dist-packages (from spacy) (2.31.0)\n",
            "Requirement already satisfied: pydantic!=1.8,!=1.8.1,<3.0.0,>=1.7.4 in /usr/local/lib/python3.10/dist-packages (from spacy) (2.7.4)\n",
            "Requirement already satisfied: jinja2 in /usr/local/lib/python3.10/dist-packages (from spacy) (3.1.4)\n",
            "Requirement already satisfied: setuptools in /usr/local/lib/python3.10/dist-packages (from spacy) (70.1.0)\n",
            "Requirement already satisfied: packaging>=20.0 in /usr/local/lib/python3.10/dist-packages (from spacy) (24.1)\n",
            "Requirement already satisfied: langcodes<4.0.0,>=3.2.0 in /usr/local/lib/python3.10/dist-packages (from spacy) (3.4.0)\n",
            "Requirement already satisfied: numpy>=1.19.0 in /usr/local/lib/python3.10/dist-packages (from spacy) (1.25.2)\n",
            "Requirement already satisfied: language-data>=1.2 in /usr/local/lib/python3.10/dist-packages (from langcodes<4.0.0,>=3.2.0->spacy) (1.2.0)\n",
            "Requirement already satisfied: annotated-types>=0.4.0 in /usr/local/lib/python3.10/dist-packages (from pydantic!=1.8,!=1.8.1,<3.0.0,>=1.7.4->spacy) (0.7.0)\n",
            "Requirement already satisfied: pydantic-core==2.18.4 in /usr/local/lib/python3.10/dist-packages (from pydantic!=1.8,!=1.8.1,<3.0.0,>=1.7.4->spacy) (2.18.4)\n",
            "Requirement already satisfied: typing-extensions>=4.6.1 in /usr/local/lib/python3.10/dist-packages (from pydantic!=1.8,!=1.8.1,<3.0.0,>=1.7.4->spacy) (4.12.2)\n",
            "Requirement already satisfied: charset-normalizer<4,>=2 in /usr/local/lib/python3.10/dist-packages (from requests<3.0.0,>=2.13.0->spacy) (3.3.2)\n",
            "Requirement already satisfied: idna<4,>=2.5 in /usr/local/lib/python3.10/dist-packages (from requests<3.0.0,>=2.13.0->spacy) (3.7)\n",
            "Requirement already satisfied: urllib3<3,>=1.21.1 in /usr/local/lib/python3.10/dist-packages (from requests<3.0.0,>=2.13.0->spacy) (2.0.7)\n",
            "Requirement already satisfied: certifi>=2017.4.17 in /usr/local/lib/python3.10/dist-packages (from requests<3.0.0,>=2.13.0->spacy) (2024.6.2)\n",
            "Requirement already satisfied: blis<0.8.0,>=0.7.8 in /usr/local/lib/python3.10/dist-packages (from thinc<8.3.0,>=8.2.2->spacy) (0.7.11)\n",
            "Requirement already satisfied: confection<1.0.0,>=0.0.1 in /usr/local/lib/python3.10/dist-packages (from thinc<8.3.0,>=8.2.2->spacy) (0.1.5)\n",
            "Requirement already satisfied: click>=8.0.0 in /usr/local/lib/python3.10/dist-packages (from typer<1.0.0,>=0.3.0->spacy) (8.1.7)\n",
            "Requirement already satisfied: shellingham>=1.3.0 in /usr/local/lib/python3.10/dist-packages (from typer<1.0.0,>=0.3.0->spacy) (1.5.4)\n",
            "Requirement already satisfied: rich>=10.11.0 in /usr/local/lib/python3.10/dist-packages (from typer<1.0.0,>=0.3.0->spacy) (13.7.1)\n",
            "Requirement already satisfied: cloudpathlib<1.0.0,>=0.7.0 in /usr/local/lib/python3.10/dist-packages (from weasel<0.5.0,>=0.1.0->spacy) (0.18.1)\n",
            "Requirement already satisfied: smart-open<8.0.0,>=5.2.1 in /usr/local/lib/python3.10/dist-packages (from weasel<0.5.0,>=0.1.0->spacy) (7.0.4)\n",
            "Requirement already satisfied: MarkupSafe>=2.0 in /usr/local/lib/python3.10/dist-packages (from jinja2->spacy) (2.1.5)\n",
            "Requirement already satisfied: marisa-trie>=0.7.7 in /usr/local/lib/python3.10/dist-packages (from language-data>=1.2->langcodes<4.0.0,>=3.2.0->spacy) (1.2.0)\n",
            "Requirement already satisfied: markdown-it-py>=2.2.0 in /usr/local/lib/python3.10/dist-packages (from rich>=10.11.0->typer<1.0.0,>=0.3.0->spacy) (3.0.0)\n",
            "Requirement already satisfied: pygments<3.0.0,>=2.13.0 in /usr/local/lib/python3.10/dist-packages (from rich>=10.11.0->typer<1.0.0,>=0.3.0->spacy) (2.16.1)\n",
            "Requirement already satisfied: wrapt in /usr/local/lib/python3.10/dist-packages (from smart-open<8.0.0,>=5.2.1->weasel<0.5.0,>=0.1.0->spacy) (1.14.1)\n",
            "Requirement already satisfied: mdurl~=0.1 in /usr/local/lib/python3.10/dist-packages (from markdown-it-py>=2.2.0->rich>=10.11.0->typer<1.0.0,>=0.3.0->spacy) (0.1.2)\n",
            "\u001b[33mWARNING: Running pip as the 'root' user can result in broken permissions and conflicting behaviour with the system package manager, possibly rendering your system unusable.It is recommended to use a virtual environment instead: https://pip.pypa.io/warnings/venv. Use the --root-user-action option if you know what you are doing and want to suppress this warning.\u001b[0m\u001b[33m\n",
            "\u001b[0mCollecting es-core-news-sm==3.7.0\n",
            "  Downloading https://github.com/explosion/spacy-models/releases/download/es_core_news_sm-3.7.0/es_core_news_sm-3.7.0-py3-none-any.whl (12.9 MB)\n",
            "\u001b[2K     \u001b[90m━━━━━━━━━━━━━━━━━━━━━━━━━━━━━━━━━━━━━━━━\u001b[0m \u001b[32m12.9/12.9 MB\u001b[0m \u001b[31m83.1 MB/s\u001b[0m eta \u001b[36m0:00:00\u001b[0m\n",
            "\u001b[?25hRequirement already satisfied: spacy<3.8.0,>=3.7.0 in /usr/local/lib/python3.10/dist-packages (from es-core-news-sm==3.7.0) (3.7.5)\n",
            "Requirement already satisfied: spacy-legacy<3.1.0,>=3.0.11 in /usr/local/lib/python3.10/dist-packages (from spacy<3.8.0,>=3.7.0->es-core-news-sm==3.7.0) (3.0.12)\n",
            "Requirement already satisfied: spacy-loggers<2.0.0,>=1.0.0 in /usr/local/lib/python3.10/dist-packages (from spacy<3.8.0,>=3.7.0->es-core-news-sm==3.7.0) (1.0.5)\n",
            "Requirement already satisfied: murmurhash<1.1.0,>=0.28.0 in /usr/local/lib/python3.10/dist-packages (from spacy<3.8.0,>=3.7.0->es-core-news-sm==3.7.0) (1.0.10)\n",
            "Requirement already satisfied: cymem<2.1.0,>=2.0.2 in /usr/local/lib/python3.10/dist-packages (from spacy<3.8.0,>=3.7.0->es-core-news-sm==3.7.0) (2.0.8)\n",
            "Requirement already satisfied: preshed<3.1.0,>=3.0.2 in /usr/local/lib/python3.10/dist-packages (from spacy<3.8.0,>=3.7.0->es-core-news-sm==3.7.0) (3.0.9)\n",
            "Requirement already satisfied: thinc<8.3.0,>=8.2.2 in /usr/local/lib/python3.10/dist-packages (from spacy<3.8.0,>=3.7.0->es-core-news-sm==3.7.0) (8.2.4)\n",
            "Requirement already satisfied: wasabi<1.2.0,>=0.9.1 in /usr/local/lib/python3.10/dist-packages (from spacy<3.8.0,>=3.7.0->es-core-news-sm==3.7.0) (1.1.3)\n",
            "Requirement already satisfied: srsly<3.0.0,>=2.4.3 in /usr/local/lib/python3.10/dist-packages (from spacy<3.8.0,>=3.7.0->es-core-news-sm==3.7.0) (2.4.8)\n",
            "Requirement already satisfied: catalogue<2.1.0,>=2.0.6 in /usr/local/lib/python3.10/dist-packages (from spacy<3.8.0,>=3.7.0->es-core-news-sm==3.7.0) (2.0.10)\n",
            "Requirement already satisfied: weasel<0.5.0,>=0.1.0 in /usr/local/lib/python3.10/dist-packages (from spacy<3.8.0,>=3.7.0->es-core-news-sm==3.7.0) (0.4.1)\n",
            "Requirement already satisfied: typer<1.0.0,>=0.3.0 in /usr/local/lib/python3.10/dist-packages (from spacy<3.8.0,>=3.7.0->es-core-news-sm==3.7.0) (0.12.3)\n",
            "Requirement already satisfied: tqdm<5.0.0,>=4.38.0 in /usr/local/lib/python3.10/dist-packages (from spacy<3.8.0,>=3.7.0->es-core-news-sm==3.7.0) (4.66.4)\n",
            "Requirement already satisfied: requests<3.0.0,>=2.13.0 in /usr/local/lib/python3.10/dist-packages (from spacy<3.8.0,>=3.7.0->es-core-news-sm==3.7.0) (2.31.0)\n",
            "Requirement already satisfied: pydantic!=1.8,!=1.8.1,<3.0.0,>=1.7.4 in /usr/local/lib/python3.10/dist-packages (from spacy<3.8.0,>=3.7.0->es-core-news-sm==3.7.0) (2.7.4)\n",
            "Requirement already satisfied: jinja2 in /usr/local/lib/python3.10/dist-packages (from spacy<3.8.0,>=3.7.0->es-core-news-sm==3.7.0) (3.1.4)\n",
            "Requirement already satisfied: setuptools in /usr/local/lib/python3.10/dist-packages (from spacy<3.8.0,>=3.7.0->es-core-news-sm==3.7.0) (70.1.0)\n",
            "Requirement already satisfied: packaging>=20.0 in /usr/local/lib/python3.10/dist-packages (from spacy<3.8.0,>=3.7.0->es-core-news-sm==3.7.0) (24.1)\n",
            "Requirement already satisfied: langcodes<4.0.0,>=3.2.0 in /usr/local/lib/python3.10/dist-packages (from spacy<3.8.0,>=3.7.0->es-core-news-sm==3.7.0) (3.4.0)\n",
            "Requirement already satisfied: numpy>=1.19.0 in /usr/local/lib/python3.10/dist-packages (from spacy<3.8.0,>=3.7.0->es-core-news-sm==3.7.0) (1.25.2)\n",
            "Requirement already satisfied: language-data>=1.2 in /usr/local/lib/python3.10/dist-packages (from langcodes<4.0.0,>=3.2.0->spacy<3.8.0,>=3.7.0->es-core-news-sm==3.7.0) (1.2.0)\n",
            "Requirement already satisfied: annotated-types>=0.4.0 in /usr/local/lib/python3.10/dist-packages (from pydantic!=1.8,!=1.8.1,<3.0.0,>=1.7.4->spacy<3.8.0,>=3.7.0->es-core-news-sm==3.7.0) (0.7.0)\n",
            "Requirement already satisfied: pydantic-core==2.18.4 in /usr/local/lib/python3.10/dist-packages (from pydantic!=1.8,!=1.8.1,<3.0.0,>=1.7.4->spacy<3.8.0,>=3.7.0->es-core-news-sm==3.7.0) (2.18.4)\n",
            "Requirement already satisfied: typing-extensions>=4.6.1 in /usr/local/lib/python3.10/dist-packages (from pydantic!=1.8,!=1.8.1,<3.0.0,>=1.7.4->spacy<3.8.0,>=3.7.0->es-core-news-sm==3.7.0) (4.12.2)\n",
            "Requirement already satisfied: charset-normalizer<4,>=2 in /usr/local/lib/python3.10/dist-packages (from requests<3.0.0,>=2.13.0->spacy<3.8.0,>=3.7.0->es-core-news-sm==3.7.0) (3.3.2)\n",
            "Requirement already satisfied: idna<4,>=2.5 in /usr/local/lib/python3.10/dist-packages (from requests<3.0.0,>=2.13.0->spacy<3.8.0,>=3.7.0->es-core-news-sm==3.7.0) (3.7)\n",
            "Requirement already satisfied: urllib3<3,>=1.21.1 in /usr/local/lib/python3.10/dist-packages (from requests<3.0.0,>=2.13.0->spacy<3.8.0,>=3.7.0->es-core-news-sm==3.7.0) (2.0.7)\n",
            "Requirement already satisfied: certifi>=2017.4.17 in /usr/local/lib/python3.10/dist-packages (from requests<3.0.0,>=2.13.0->spacy<3.8.0,>=3.7.0->es-core-news-sm==3.7.0) (2024.6.2)\n",
            "Requirement already satisfied: blis<0.8.0,>=0.7.8 in /usr/local/lib/python3.10/dist-packages (from thinc<8.3.0,>=8.2.2->spacy<3.8.0,>=3.7.0->es-core-news-sm==3.7.0) (0.7.11)\n",
            "Requirement already satisfied: confection<1.0.0,>=0.0.1 in /usr/local/lib/python3.10/dist-packages (from thinc<8.3.0,>=8.2.2->spacy<3.8.0,>=3.7.0->es-core-news-sm==3.7.0) (0.1.5)\n",
            "Requirement already satisfied: click>=8.0.0 in /usr/local/lib/python3.10/dist-packages (from typer<1.0.0,>=0.3.0->spacy<3.8.0,>=3.7.0->es-core-news-sm==3.7.0) (8.1.7)\n",
            "Requirement already satisfied: shellingham>=1.3.0 in /usr/local/lib/python3.10/dist-packages (from typer<1.0.0,>=0.3.0->spacy<3.8.0,>=3.7.0->es-core-news-sm==3.7.0) (1.5.4)\n",
            "Requirement already satisfied: rich>=10.11.0 in /usr/local/lib/python3.10/dist-packages (from typer<1.0.0,>=0.3.0->spacy<3.8.0,>=3.7.0->es-core-news-sm==3.7.0) (13.7.1)\n",
            "Requirement already satisfied: cloudpathlib<1.0.0,>=0.7.0 in /usr/local/lib/python3.10/dist-packages (from weasel<0.5.0,>=0.1.0->spacy<3.8.0,>=3.7.0->es-core-news-sm==3.7.0) (0.18.1)\n",
            "Requirement already satisfied: smart-open<8.0.0,>=5.2.1 in /usr/local/lib/python3.10/dist-packages (from weasel<0.5.0,>=0.1.0->spacy<3.8.0,>=3.7.0->es-core-news-sm==3.7.0) (7.0.4)\n",
            "Requirement already satisfied: MarkupSafe>=2.0 in /usr/local/lib/python3.10/dist-packages (from jinja2->spacy<3.8.0,>=3.7.0->es-core-news-sm==3.7.0) (2.1.5)\n",
            "Requirement already satisfied: marisa-trie>=0.7.7 in /usr/local/lib/python3.10/dist-packages (from language-data>=1.2->langcodes<4.0.0,>=3.2.0->spacy<3.8.0,>=3.7.0->es-core-news-sm==3.7.0) (1.2.0)\n",
            "Requirement already satisfied: markdown-it-py>=2.2.0 in /usr/local/lib/python3.10/dist-packages (from rich>=10.11.0->typer<1.0.0,>=0.3.0->spacy<3.8.0,>=3.7.0->es-core-news-sm==3.7.0) (3.0.0)\n",
            "Requirement already satisfied: pygments<3.0.0,>=2.13.0 in /usr/local/lib/python3.10/dist-packages (from rich>=10.11.0->typer<1.0.0,>=0.3.0->spacy<3.8.0,>=3.7.0->es-core-news-sm==3.7.0) (2.16.1)\n",
            "Requirement already satisfied: wrapt in /usr/local/lib/python3.10/dist-packages (from smart-open<8.0.0,>=5.2.1->weasel<0.5.0,>=0.1.0->spacy<3.8.0,>=3.7.0->es-core-news-sm==3.7.0) (1.14.1)\n",
            "Requirement already satisfied: mdurl~=0.1 in /usr/local/lib/python3.10/dist-packages (from markdown-it-py>=2.2.0->rich>=10.11.0->typer<1.0.0,>=0.3.0->spacy<3.8.0,>=3.7.0->es-core-news-sm==3.7.0) (0.1.2)\n",
            "\u001b[33mWARNING: Running pip as the 'root' user can result in broken permissions and conflicting behaviour with the system package manager, possibly rendering your system unusable.It is recommended to use a virtual environment instead: https://pip.pypa.io/warnings/venv. Use the --root-user-action option if you know what you are doing and want to suppress this warning.\u001b[0m\u001b[33m\n",
            "\u001b[0m\u001b[38;5;2m✔ Download and installation successful\u001b[0m\n",
            "You can now load the package via spacy.load('es_core_news_sm')\n",
            "\u001b[38;5;3m⚠ Restart to reload dependencies\u001b[0m\n",
            "If you are in a Jupyter or Colab notebook, you may need to restart Python in\n",
            "order to load all the package's dependencies. You can do this by selecting the\n",
            "'Restart kernel' or 'Restart runtime' option.\n"
          ]
        }
      ]
    },
    {
      "cell_type": "code",
      "source": [
        "# instalar grapviz para construir y visualizar árboles de dependencias\n",
        "# usualmente ya se encuentra instalado\n",
        "!apt-get install graphviz\n",
        "!pip install graphviz"
      ],
      "metadata": {
        "colab": {
          "base_uri": "https://localhost:8080/"
        },
        "id": "5HhraiwLo3gI",
        "outputId": "1ffe7325-5636-4b99-9b31-a0854eb19eae"
      },
      "execution_count": null,
      "outputs": [
        {
          "output_type": "stream",
          "name": "stdout",
          "text": [
            "Reading package lists... Done\n",
            "Building dependency tree... Done\n",
            "Reading state information... Done\n",
            "graphviz is already the newest version (2.42.2-6).\n",
            "0 upgraded, 0 newly installed, 0 to remove and 45 not upgraded.\n",
            "Requirement already satisfied: graphviz in /usr/local/lib/python3.10/dist-packages (0.20.3)\n",
            "\u001b[33mWARNING: Running pip as the 'root' user can result in broken permissions and conflicting behaviour with the system package manager, possibly rendering your system unusable.It is recommended to use a virtual environment instead: https://pip.pypa.io/warnings/venv. Use the --root-user-action option if you know what you are doing and want to suppress this warning.\u001b[0m\u001b[33m\n",
            "\u001b[0m"
          ]
        }
      ]
    },
    {
      "cell_type": "markdown",
      "source": [
        "### Importar bibliotecas"
      ],
      "metadata": {
        "id": "qekz4lIhBlT_"
      }
    },
    {
      "cell_type": "code",
      "source": [
        "import pandas as pd\n",
        "import spacy\n",
        "import re\n",
        "from spacy.lang.es.stop_words import STOP_WORDS\n",
        "from IPython.display import Image"
      ],
      "metadata": {
        "id": "e-BU71wrBoF0"
      },
      "execution_count": null,
      "outputs": []
    },
    {
      "cell_type": "code",
      "source": [
        "# cargar el modelo en español de spacy\n",
        "nlp = spacy.load('es_core_news_sm')"
      ],
      "metadata": {
        "id": "2p6lUUWPknQM"
      },
      "execution_count": null,
      "outputs": []
    },
    {
      "cell_type": "markdown",
      "source": [
        "## Cargar datos del archivo"
      ],
      "metadata": {
        "id": "Xa0VlcpR_jQt"
      }
    },
    {
      "cell_type": "markdown",
      "source": [
        "Leer el archivo a *preprocesar*, si es un archivo de texto plano (`.txt`) leer el archivo y almacenar el contenido en una estructura de Python (lista o diccionario).\n",
        "\n",
        "En caso de leer un archivo estructurado con formato `.csv` o `.tsv` utilizar la biblioteca `pandas` para la obtención de la información del archivo."
      ],
      "metadata": {
        "id": "Wz6LF9Db_x-7"
      }
    },
    {
      "cell_type": "code",
      "source": [
        "# archivo de texto plano \"Los_Caudillos_de_1830.txt\"\n",
        "\n",
        "ruta_archivo = \"data/Los_Caudillos_de_1830.txt\"\n",
        "datos = []\n",
        "\n",
        "with open(ruta_archivo) as archivo:\n",
        "  for linea in archivo:\n",
        "    datos.append(linea)\n",
        "\n",
        "print(f\"{len(datos):,} renglones en el archivo: '{ruta_archivo}'\")\n",
        "\n",
        "# salida esperada:\n",
        "# 6,100 renglones en el archivo: 'data/Los_Caudillos_de_1830.txt'\n",
        "\n",
        "# visualizar los primeros 10 elementos almacenados\n",
        "print(datos[0:11])\n",
        "# salida esperada:\n",
        "# ['                              PÍO BAROJA\\n', '\\n', '\\n',\n",
        "# '                                  LOS\\n', '                               CAUDILLOS\\n',\n",
        "# '                                DE 1830\\n', '\\n', '                                NOVELA\\n',\n",
        "# '\\n', '\\n', '                             [Ilustración]\\n']"
      ],
      "metadata": {
        "id": "Z_YPdioTTWjo",
        "colab": {
          "base_uri": "https://localhost:8080/"
        },
        "outputId": "8fa7d4ab-0a4d-4eb2-c378-1e807f28496d"
      },
      "execution_count": null,
      "outputs": [
        {
          "output_type": "stream",
          "name": "stdout",
          "text": [
            "6,100 renglones en el archivo: 'data/Los_Caudillos_de_1830.txt'\n",
            "['                              PÍO BAROJA\\n', '\\n', '\\n', '                                  LOS\\n', '                               CAUDILLOS\\n', '                                DE 1830\\n', '\\n', '                                NOVELA\\n', '\\n', '\\n', '                             [Ilustración]\\n']\n"
          ]
        }
      ]
    },
    {
      "cell_type": "markdown",
      "source": [
        "## Limpieza"
      ],
      "metadata": {
        "id": "XgqmK36uJ8ue"
      }
    },
    {
      "cell_type": "markdown",
      "source": [
        "En muchas ocasiones es necesario limpiar los datos del archivo, por ejemplo en el caso de los tweets a veces es necesario eliminar caracteres especiales como URLs, hashtags, etc.\n",
        "\n",
        "La eliminación de caracteres como los saltos de línea, y los espacios en blanco a la izquierda y derecha del texto son eliminados. De igual manera las líneas del texto vacías deben omitirse en el almacenamiento.\n",
        "\n",
        "Adicionalmente, es clave conservar las oraciones sin saltos de línea que las rompan."
      ],
      "metadata": {
        "id": "HCxWgB07Yrag"
      }
    },
    {
      "cell_type": "code",
      "source": [
        "# archivo de texto plano \"Los_Caudillos_de_1830.txt\"\n",
        "# eliminar los saltos de línea y evitar almacenar líneas vacías.\n",
        "\n",
        "ruta_archivo = \"data/Los_Caudillos_de_1830.txt\"\n",
        "datos = []\n",
        "\n",
        "with open(ruta_archivo) as archivo:\n",
        "  for linea in archivo:\n",
        "    # eliminar el caracter de salto de línea y\n",
        "    # eliminar espacios en blanco al inicio y fin del texto de la línea\n",
        "    linea = linea.replace(\"\\n\", \"\").strip()\n",
        "\n",
        "    if linea == \"\":\n",
        "      continue\n",
        "\n",
        "    datos.append(linea)\n",
        "\n",
        "print(f\"{len(datos):,} renglones en el archivo: '{ruta_archivo}'\")\n",
        "# salida esperada:\n",
        "# 4,155 renglones en el archivo: 'data/Los_Caudillos_de_1830.txt'\n",
        "\n",
        "# visualizar los primeros 10 elementos almacenados\n",
        "print(datos[0:11])\n",
        "# salida esperada:\n",
        "# ['PÍO BAROJA', 'LOS', 'CAUDILLOS', 'DE 1830', 'NOVELA', '[Ilustración]', 'RAFAEL CARO RAGGIO: EDITOR',\n",
        "# 'Calle de Ventura Rodríguez, 18', '1918', 'LIBRO PRIMERO', 'EL ETERNO CONSPIRADOR']\n",
        "\n",
        "# visualizar el primer párrafo del libro\n",
        "print(datos[13:17])\n",
        "# salida esperada:\n",
        "# ['UN día, al anochecer, apareció en la fonda de Iturri un hombre que',\n",
        "# 'llamó la atención de Lacy y de Ochoa. Era un tipo seco, amojamado, con',\n",
        "# 'la cara y las manos curtidas por el sol. Tenía el aire de cansancio de',\n",
        "# 'los que vienen de países tropicales.']"
      ],
      "metadata": {
        "id": "M_NikXHZUKMf",
        "colab": {
          "base_uri": "https://localhost:8080/"
        },
        "outputId": "86e0ee1d-77f6-43d5-9cfc-dc6f6a8f925e"
      },
      "execution_count": null,
      "outputs": [
        {
          "output_type": "stream",
          "name": "stdout",
          "text": [
            "4,155 renglones en el archivo: 'data/Los_Caudillos_de_1830.txt'\n",
            "['PÍO BAROJA', 'LOS', 'CAUDILLOS', 'DE 1830', 'NOVELA', '[Ilustración]', 'RAFAEL CARO RAGGIO: EDITOR', 'Calle de Ventura Rodríguez, 18', '1918', 'LIBRO PRIMERO', 'EL ETERNO CONSPIRADOR']\n",
            "['UN día, al anochecer, apareció en la fonda de Iturri un hombre que', 'llamó la atención de Lacy y de Ochoa. Era un tipo seco, amojamado, con', 'la cara y las manos curtidas por el sol. Tenía el aire de cansancio de', 'los que vienen de países tropicales.']\n"
          ]
        }
      ]
    },
    {
      "cell_type": "code",
      "source": [
        "# archivo de texto plano \"Los_Caudillos_de_1830.txt\"\n",
        "# eliminar los saltos de línea y evitar almacenar líneas vacías.\n",
        "# conservar los parrafos sin romper las oraciones.\n",
        "\n",
        "ruta_archivo = \"data/Los_Caudillos_de_1830.txt\"\n",
        "datos = []\n",
        "\n",
        "parrafo = \"\"\n",
        "simbolos_terminales = [\".\", \",\", \":\", \";\", \"?\", \"!\"]\n",
        "\n",
        "with open(ruta_archivo) as archivo:\n",
        "  for i, linea in enumerate(archivo):\n",
        "    # eliminar el caracter de salto de línea y\n",
        "    # eliminar espacios en blanco al inicio y fin del texto de la línea\n",
        "    linea = linea.replace(\"\\n\", \"\").strip()\n",
        "\n",
        "    if linea == \"[Ilustración]\":\n",
        "      continue\n",
        "\n",
        "    if len(linea) > 1 and len(parrafo)>=0:\n",
        "      parrafo = f\"{parrafo} {linea.strip()}\"\n",
        "    elif len(linea) == 0 and len(parrafo) > 1:\n",
        "      if parrafo[-1] not in simbolos_terminales:\n",
        "        parrafo += \".\"\n",
        "      datos.append(parrafo.strip())\n",
        "      parrafo = \"\"\n",
        "\n",
        "\n",
        "\n",
        "print(f\"{len(datos):,} renglones en el archivo: '{ruta_archivo}'\")\n",
        "# salida esperada:\n",
        "# 1,747 renglones en el archivo: 'data/Los_Caudillos_de_1830.txt'\n",
        "\n",
        "print(datos[8])\n",
        "# salida esperada:\n",
        "# UN día, al anochecer, apareció en la fonda de Iturri un hombre que llamó la atención de Lacy y de Ochoa. Era un tipo seco, amojamado, con la cara y las manos curtidas por el sol. Tenía el aire de cansancio de los que vienen de países tropicales."
      ],
      "metadata": {
        "id": "z5bnUkVAC0ZW",
        "colab": {
          "base_uri": "https://localhost:8080/"
        },
        "outputId": "369afa1d-8d1b-4223-f4de-e7260f0cb1fd"
      },
      "execution_count": null,
      "outputs": [
        {
          "output_type": "stream",
          "name": "stdout",
          "text": [
            "1,747 renglones en el archivo: 'data/Los_Caudillos_de_1830.txt'\n",
            "UN día, al anochecer, apareció en la fonda de Iturri un hombre que llamó la atención de Lacy y de Ochoa. Era un tipo seco, amojamado, con la cara y las manos curtidas por el sol. Tenía el aire de cansancio de los que vienen de países tropicales.\n"
          ]
        }
      ]
    },
    {
      "cell_type": "code",
      "source": [
        "# guardar los datos del archivo en formato csv\n",
        "# utilizar una columna llamada \"texto\"\n",
        "# import pandas as pd\n",
        "\n",
        "\n",
        "#df = pd.DataFrame({\"texto\":datos})\n",
        "\n",
        "#df.to_csv(\"data/Los_Caudillos_de_1830.csv\", index=False)"
      ],
      "metadata": {
        "id": "QmqqT8oC6jCH"
      },
      "execution_count": null,
      "outputs": []
    },
    {
      "cell_type": "markdown",
      "source": [
        "#### Palabras vacías\n",
        "\n",
        "Las **palabras vacías**, también conocidas como **stop words**, son un conjunto de palabras comunes que carecen de significado intrínseco o aportan poca información relevante al contexto de un texto. Son palabras como \"de\", \"la\", \"los\", \"un\", \"una\", \"y\", \"que\", etc.\n",
        "\n",
        "En el PLN, las palabras vacías se suelen eliminar del texto antes de realizar análisis lingüísticos, como la extracción de palabras clave, la clasificación de documentos o la traducción automática. Esto se debe a que estas palabras no contribuyen significativamente al significado general del texto y pueden incluso dificultar el proceso de análisis.\n",
        "\n",
        "**¿Por qué se utilizan las palabras vacías?**\n",
        "\n",
        "Existen varias razones por las que se utilizan las palabras vacías en el PLN:\n",
        "\n",
        "* **Reducir la dimensión del texto**: Eliminar las palabras vacías reduce la cantidad de datos que se deben procesar, lo que puede mejorar la eficiencia de los algoritmos de PLN.\n",
        "* **Mejorar la precisión del análisis**: Al eliminar las palabras vacías, se centran los algoritmos en las palabras que son más importantes para el significado del texto, lo que puede mejorar la precisión del análisis.\n",
        "* **Reducir el ruido**: Las palabras vacías pueden introducir ruido en los datos, lo que puede dificultar la identificación de patrones y relaciones significativas.\n",
        "\n",
        "Sintaxis para eliminar palabras vacías de un texto con `spacy`:\n",
        "\n",
        "```python\n",
        "def eliminar_stopwords(texto):\n",
        "  doc = nlp(texto, disable=[\"ner\"])\n",
        "  tokens_sin_stopwords = [token.text for token in doc if not token.is_stop]\n",
        "  texto_sin_stopwords = \" \".join(tokens_sin_stopwords)\n",
        "  return texto_sin_stopwords\n",
        "\n",
        "texto_original = \"Este es un ejemplo de texto con palabras vacías.\"\n",
        "texto_sin_stopwords = eliminar_stopwords(texto_original)\n",
        "print(f\"Texto original: {texto_original}\")\n",
        "print(f\"Texto sin palabras vacías: {texto_sin_stopwords}\")\n",
        "\n",
        "# salida esperada:\n",
        "# Texto original: Este es un ejemplo de texto con palabras vacías.\n",
        "# Texto sin palabras vacías: ejemplo texto palabras vacías .\n",
        "```"
      ],
      "metadata": {
        "id": "nABlg0iY0CH5"
      }
    },
    {
      "cell_type": "code",
      "source": [
        "# otra forma de eliminar las palabras vacías de un texto es utilizar el conjunto STOP_WORDS de spacy\n",
        "# from spacy.lang.es.stop_words import STOP_WORDS\n",
        "\n",
        "texto = \"Este es un ejemplo de texto con palabras vacías.\"\n",
        "doc = nlp(texto, disable=[\"ner\"])\n",
        "\n",
        "tokens = []\n",
        "for token in doc:\n",
        "  if token.text.lower() not in STOP_WORDS:\n",
        "    tokens.append(token.text)\n",
        "\n",
        "print(f\"Texto original: {texto}\")\n",
        "print(f\"Texto sin palabras vacías: {tokens}\")\n",
        "\n",
        "# salida esperada:\n",
        "# Texto original: Este es un ejemplo de texto con palabras vacías.\n",
        "# Texto sin palabras vacías: ['ejemplo', 'texto', 'palabras', 'vacías', '.']\n",
        "\n",
        "print(STOP_WORDS)\n",
        "# slida esperada:\n",
        "# {'explicó', 'tendrán', 'nuestros', 'podemos', 'tan', 'después', 'contigo', 'una', ... }"
      ],
      "metadata": {
        "colab": {
          "base_uri": "https://localhost:8080/"
        },
        "id": "f1iTxvMu17N_",
        "outputId": "5f9f8752-33c8-46d6-cfff-18df0366f8ea"
      },
      "execution_count": null,
      "outputs": [
        {
          "output_type": "stream",
          "name": "stdout",
          "text": [
            "Texto original: Este es un ejemplo de texto con palabras vacías.\n",
            "Texto sin palabras vacías: ['ejemplo', 'texto', 'palabras', 'vacías', '.']\n",
            "{'explicó', 'tendrán', 'nuestros', 'podemos', 'tan', 'después', 'contigo', 'una', 'algo', 'diferente', 'hace', 'mucho', 'propio', 'aún', 'míos', 'un', 'través', 'tenía', 'varios', 'estais', 'sola', 'menudo', 'tercera', 'ustedes', 'ocho', 'mismo', 'últimas', 'misma', 'esos', 'han', 'eramos', 'es', 'mias', 'creo', 'mismas', 'despues', 'las', 'pero', 'somos', 'habla', 'sólo', 'ninguna', 'propia', 'propias', 'durante', 'supuesto', 'seis', 'poder', 'tuyos', 'anterior', 'nuestras', 'serán', 'te', 'puede', 'dado', 'estas', 'propios', 'dejó', 'primeros', 'aproximadamente', 'tras', 'hicieron', 'otras', 'verdad', 'ademas', 'ha', 'estados', 'tambien', 'indicó', 'sabeis', 'además', 'último', 'mios', 'pasado', 'dice', 'haciendo', 'era', 'siete', 'hablan', 'e', 'cada', 'sigue', 'hay', 'muchos', 'poco', 'diferentes', 'tenido', 'aquellos', 'que', 'cuando', 'peor', 'quién', 'podriamos', 'aquí', 'tenga', 'veces', 'arriba', 'apenas', 'yo', 'manera', 'aquello', 'toda', 'tarde', 'en', 'vuestra', 'parte', 'ningún', 'algún', 'aqui', 'donde', 'consigues', 'aquellas', 'embargo', 'vamos', 'trata', 'nadie', 'ningunos', 'usar', 'sea', 'haces', 'había', 'de', 'lleva', 'estaban', 'mío', 'tercero', 'hubo', 'expresó', 'decir', 'estan', 'deben', 'encuentra', 'pocos', 'puedo', 'sera', 'me', 'he', 'mal', 'con', 'tus', 'diez', 'tal', 'saber', 'como', 'usas', 'casi', 'éstas', 'otros', 'tuvo', 'alguno', 'pueda', 'haya', 'él', 'hemos', 'éste', 'conseguimos', 'tuyo', 'consigue', 'todas', 'enseguida', 'mismos', 'nada', 'pronto', 'enfrente', 'allí', 'mías', 'ir', 'ésos', 'mia', 'y', 'verdadera', 'ésa', 'ahora', 'buenas', 'incluso', 'pudo', 'estuvo', 'hasta', 'detrás', 'debajo', 'cualquier', 'ultimo', 'solo', 'consiguen', 'señaló', 'ante', 'estar', 'buena', 'ello', 'afirmó', 'suya', 'total', 'da', 'qué', 'cuanto', 'voy', 'ciertos', 'quizas', 'buen', 'sería', 'qeu', 'alrededor', 'según', 'ni', 'consigo', 'mediante', 'existen', 'antes', 'dos', 'próximos', 'al', 'esta', 'son', 'asi', 'delante', 'podrian', 'adelante', 'usan', 'así', 'alguna', 'cuales', 'ésta', 'cuánto', 'también', 'nosotras', 'vais', 'porque', 'cierta', 'segunda', 'dio', 'sabe', 'tanto', 'deprisa', 'sobre', 'usa', 'sé', 'temprano', 'hacerlo', 'vuestro', 'solos', 'repente', 'ambos', 'o', 'acuerdo', 'partir', 'quedó', 'uno', 'hago', 'soy', 'podria', 'fuimos', 'aseguró', 'última', 'nuevas', 'verdadero', 'mía', 'grandes', 'unos', 'bastante', 'se', 'salvo', 'por', 'cuenta', 'no', 'mas', 'mejor', 'podrían', 'quiza', 'esto', 'segundo', 'eso', 'añadió', 'todo', 'mayor', 'siendo', 'el', 'teneis', 'podría', 'más', 'cuantos', 'mucha', 'quiénes', 'esa', 'dia', 'últimos', 'habrá', 'mientras', 'ser', 'igual', 'este', 'nos', 'nueve', 'será', 'otro', 'todos', 'solamente', 'hacer', 'nueva', 'hacemos', 'primera', 'usamos', 'informó', 'dan', 'quizás', 'estado', 'aquéllas', 'demasiado', 'eran', 'habían', 'fin', 'comentó', 'cuáles', 'bajo', 'usted', 'dar', 'medio', 'tu', 'sin', 'tengo', 'cuantas', 'va', 'cuándo', 'mencionó', 'ninguno', 'lo', 'pasada', 'parece', 'sí', 'nosotros', 'realizar', 'cuál', 'menos', 'informo', 'días', 'podrias', 'tuyas', 'breve', 'ése', 'atras', 'estaba', 'estoy', 'estos', 'cómo', 'pocas', 'consideró', 'llegó', 'podeis', 'eras', 'los', 'posible', 'quiere', 'fui', 'tú', 'saben', 'detras', 'doce', 'siguiente', 'tres', 'está', 'hecho', 'quienes', 'suyos', 'bien', 'hacen', 'poca', 'estará', 'grande', 'a', 'realizado', 'dijeron', 'dijo', 'podrán', 'pueden', 'aquella', 'para', 'sois', 'sido', 'aquélla', 'algunas', 'aquél', 'mí', 'nuestro', 'conseguir', 'podrá', 'dónde', 'eres', 'tenemos', 'vuestros', 'largo', 'lado', 'mio', 'usais', 'vuestras', 'despacio', 'van', 'cuatro', 'todavia', 'sabes', 'manifestó', 'entre', 'considera', 'ciertas', 'le', 'unas', 'proximo', 'suyo', 'estamos', 'algunos', 'aquel', 'quizá', 'once', 'cuánta', 'otra', 'tienen', 'os', 'debe', 'ella', 'sus', 'ya', 'sean', 'tuya', 'aunque', 'cinco', 'su', 'del', 'ese', 'dieron', 'están', 'esas', 'gran', 'existe', 'sino', 'ti', 'día', 'uso', 'encima', 'junto', 'nunca', 'llevar', 'dias', 'vaya', 'solas', 'pesar', 'tiene', 'nuevos', 'dicho', 'mis', 'ésas', 'nuestra', 'alli', 'aun', 'vosotros', 'hoy', 'segun', 'tampoco', 'debido', 'dicen', 'agregó', 'pues', 'ellas', 'contra', 'varias', 'conmigo', 'éstos', 'podriais', 'respecto', 'cuántas', 'haber', 'muy', 'suyas', 'ahí', 'ellos', 'modo', 'conocer', 'primero', 'fueron', 'poner', 'todavía', 'la', 'haceis', 'primer', 'vez', 'buenos', 'habia', 'realizó', 'ningunas', 'aquéllos', 'cual', 'excepto', 'cuántos', 'cuanta', 'queremos', 'ver', 'cierto', 'si', 'vosotras', 'dentro', 'fuera', 'demás', 'bueno', 'ahi', 'paìs', 'fue', 'siempre', 'nuevo', 'u', 'luego', 'desde', 'sabemos', 'mi', 'claro', 'les', 'hacia', 'quien', 'entonces', 'hizo', 'final', 'próximo', 'tener', 'muchas', 'tendrá'}\n"
          ]
        }
      ]
    },
    {
      "cell_type": "markdown",
      "source": [
        "## Normalización el texto"
      ],
      "metadata": {
        "id": "ENimHEuTYf2A"
      }
    },
    {
      "cell_type": "markdown",
      "source": [
        "En el Procesamiento de Lenguaje Natural (PLN) el proceso de normalización del texto consiste en la tokenización, lematización y la extracción de etiquetas POS\n"
      ],
      "metadata": {
        "id": "ED77ZIQ5Z13M"
      }
    },
    {
      "cell_type": "markdown",
      "source": [
        "### Tokenizacion\n",
        "\n",
        "En el ámbito del PLN, un **token** se refiere a la unidad básica de texto que se utiliza para el análisis. Es decir, son segmentos de texto que se obtienen al dividir un texto en unidades más pequeñas y significativas."
      ],
      "metadata": {
        "id": "eJgY5flQbrjC"
      }
    },
    {
      "cell_type": "markdown",
      "source": [
        "#### Objetivos de la tokenización:\n",
        "\n",
        "* **Simplificar el texto**: Al dividir el texto en unidades más pequeñas, se facilita su análisis y procesamiento por parte de las máquinas.\n",
        "* **Identificar unidades lingüísticas**: La tokenización permite identificar unidades lingüísticas relevantes como palabras, frases, números, símbolos, etc.\n",
        "* **Preparar el texto para tareas posteriores**: La tokenización es un paso previo necesario para tareas como el análisis sintáctico, el análisis semántico, la traducción automática, la extracción de información, etc."
      ],
      "metadata": {
        "id": "6GeMvqaFb0HA"
      }
    },
    {
      "cell_type": "markdown",
      "source": [
        "#### Tipos de tokenizacion\n",
        "\n",
        "* **Tokenización a nivel de palabra**: Es la más común y divide el texto en palabras individuales. Por ejemplo, la oración \"La casa roja está en la esquina\" se tokenizaría como: [\"La\", \"casa\", \"roja\", \"está\", \"en\", \"la\", \"esquina\"].\n",
        "* **Tokenización a nivel de subpalabra**: Divide las palabras en sus componentes más pequeños, como prefijos, sufijos y raíces. Por ejemplo, la palabra \"comprender\" se tokenizaría como: [\"com\", \"prender\"].\n",
        "* **Tokenización a nivel de carácter**: Divide el texto en caracteres individuales. Por ejemplo, la oración \"Hola mundo\" se tokenizaría como: [\"H\", \"o\", \"l\", \"a\", \" \", \"m\", \"u\", \"n\", \"d\", \"o\"]."
      ],
      "metadata": {
        "id": "XKA4DwNNb13-"
      }
    },
    {
      "cell_type": "markdown",
      "source": [
        "#### Tokenización con `spacy`\n",
        "\n",
        "Para realizar el proceso de tokenizacion se utiliza la biblioteca `spacy`. A continuación se presenta la sintaxis básica:\n",
        "\n",
        "```python\n",
        "# importar la biblioteca\n",
        "import spacy\n",
        "\n",
        "# cargar el modelo dependiendo del idioma reuqerido para procesar\n",
        "nlp = spacy.load('es_core_news_sm')\n",
        "\n",
        "# texto a tokenizar\n",
        "texto = \"Esta es una oración, que será tokenizada!\"\n",
        "\n",
        "# realizar la tokenización del texto\n",
        "doc = nlp(texto, disable=[\"ner\"])\n",
        "\n",
        "tokens = [token.text for token in doc]\n",
        "print(tokens)\n",
        "```"
      ],
      "metadata": {
        "id": "hqf3pixfc5ZB"
      }
    },
    {
      "cell_type": "code",
      "source": [
        "# tokenizar el conjunto de datos obtenido del archivo\n",
        "# para tokenizar se utiliza la biblioteca Spacy\n",
        "\n",
        "# el modelo en español que usa Spacy ya se encuentra cargado\n",
        "\n",
        "# texto a tokenizar\n",
        "texto = \"Esta es una oración, que será tokenizada! Hoy es 25-06-2024, estamos en el taller-PLN.\"\n",
        "\n",
        "# realizar la tokenización del texto\n",
        "doc = nlp(texto, disable=[\"ner\"])\n",
        "\n",
        "oraciones = [] # variable para almacenar las listas de tokens por cada oración\n",
        "for sentence in doc.sents: # iterar las oraciones identificadas en el texto\n",
        "  tokens = [token.text for token in sentence] # obtener el texto de los tokens\n",
        "  oraciones.append(tokens) # almacenar la lista de tokens por cada oración\n",
        "\n",
        "# visulizar el texto tokenizado\n",
        "print(oraciones)\n",
        "# salida esperada:\n",
        "# [['Esta', 'es', 'una', 'oración', ',', 'que', 'será', 'tokenizada', '!'],\n",
        "# ['Hoy', 'es', '25-06-2024', ',', 'estamos', 'en', 'el', 'taller-PLN', '.']]\n"
      ],
      "metadata": {
        "id": "sFXHAq_zcJ7a",
        "colab": {
          "base_uri": "https://localhost:8080/"
        },
        "outputId": "bb084bc1-d9c3-4117-909f-f18ab24d3f37"
      },
      "execution_count": null,
      "outputs": [
        {
          "output_type": "stream",
          "name": "stdout",
          "text": [
            "[['Esta', 'es', 'una', 'oración', ',', 'que', 'será', 'tokenizada', '!'], ['Hoy', 'es', '25-06-2024', ',', 'estamos', 'en', 'el', 'taller-PLN', '.']]\n"
          ]
        }
      ]
    },
    {
      "cell_type": "markdown",
      "source": [
        "### Lematización"
      ],
      "metadata": {
        "id": "lWo4rzzRfQBM"
      }
    },
    {
      "cell_type": "markdown",
      "source": [
        "La lematización es un proceso que consiste en reducir las palabras a su **forma base** o **lema**, también conocida como **forma canónica**.\n",
        "\n",
        "A diferencia de la stemming, que se basa en reglas heurísticas para eliminar sufijos y prefijos, la lematización utiliza un diccionario y reglas morfológicas para identificar la forma base correcta de una palabra, tomando en cuenta su contexto gramatical y semántico."
      ],
      "metadata": {
        "id": "2XzG48e8fVju"
      }
    },
    {
      "cell_type": "markdown",
      "source": [
        "#### Objetivos de la lematización:\n",
        "\n",
        "* **Normalizar el texto**: La lematización permite agrupar palabras flexionadas (conjugaciones, declinaciones) en su forma base, lo que reduce la redundancia y facilita el análisis del texto.\n",
        "* **Mejorar la recuperación de información**: Al buscar información en un corpus de texto, la lematización permite encontrar coincidencias incluso si las palabras de búsqueda y los documentos están escritos con diferentes flexiones.\n",
        "* **Reducir la dimensionalidad**: La lematización puede reducir la dimensionalidad de los datos de texto, lo que puede ser útil para tareas como el modelado de temas o la clasificación de textos."
      ],
      "metadata": {
        "id": "A_-Npc0hkepq"
      }
    },
    {
      "cell_type": "markdown",
      "source": [
        "#### Ejemplos de lematización:\n",
        "\n",
        "| Palabra | Flexiones | Lemma |\n",
        "|----------|----------|----------|\n",
        "| comer | como, comes, comemos, coméis, comen   | comer |\n",
        "| jugar | juego, juegas, jugamos, jugáis, juegan\t| jugar |\n",
        "| país | países | país |\n",
        "| ciudad | ciudades | ciudad |"
      ],
      "metadata": {
        "id": "ftkSlp4_khJQ"
      }
    },
    {
      "cell_type": "markdown",
      "source": [
        "#### Lematización con `spacy`\n",
        "\n",
        "La lematización con la biblioteca `spacy` consiste de la sintaxis:\n",
        "\n",
        "```python\n",
        "# importar la biblioteca\n",
        "import spacy\n",
        "\n",
        "# cargar el modelo dependiendo del idioma reuqerido para procesar\n",
        "nlp = spacy.load('es_core_news_sm')\n",
        "\n",
        "# texto a lematizar\n",
        "texto = \"Los niños jugaban en el parque.\"\n",
        "\n",
        "# realizar la tokenización del texto\n",
        "doc = nlp(texto, disable=[\"ner\"])\n",
        "\n",
        "lemmas = [token.lemma_ for token in doc]\n",
        "print(lemmas)\n",
        "# salida esperada:\n",
        "# ['el', 'niño', 'jugar', 'en', 'el', 'parque', '.']\n",
        "```"
      ],
      "metadata": {
        "id": "EQP5kUZ_hbBM"
      }
    },
    {
      "cell_type": "code",
      "source": [
        "# el modelo en español que usa Spacy ya se encuentra cargado\n",
        "\n",
        "# texto a lematizar\n",
        "texto = \"Los niños jugaban en el parque. Las niñas corrían por el jardín.\"\n",
        "\n",
        "# realizar la tokenización del texto\n",
        "doc = nlp(texto, disable=[\"ner\"])\n",
        "\n",
        "for sentence in doc.sents:\n",
        "  print('-'*20)\n",
        "  print(f\"token\\tlemma\")\n",
        "  print('-'*20)\n",
        "  for token in sentence:\n",
        "    print(f\"{token.text}\\t{token.lemma_}\")\n",
        "\n",
        "# salida esperada:\n",
        "# --------------------\n",
        "# token\tlemma\n",
        "# --------------------\n",
        "# Los\tel\n",
        "# niños\tniño\n",
        "# jugaban\tjugar\n",
        "# en\ten\n",
        "# el\tel\n",
        "# parque\tparque\n",
        "# .\t.\n",
        "# --------------------\n",
        "# token\tlemma\n",
        "# --------------------\n",
        "# Las\tel\n",
        "# niñas\tniña\n",
        "# corrían\tcorrer\n",
        "# por\tpor\n",
        "# el\tel\n",
        "# jardín\tjardín\n",
        "# .\t."
      ],
      "metadata": {
        "id": "OQ15Ki03hXlM",
        "colab": {
          "base_uri": "https://localhost:8080/"
        },
        "outputId": "f689329b-57ff-4a04-bb16-298c5f56d941"
      },
      "execution_count": null,
      "outputs": [
        {
          "output_type": "stream",
          "name": "stdout",
          "text": [
            "--------------------\n",
            "token\tlemma\n",
            "--------------------\n",
            "Los\tel\n",
            "niños\tniño\n",
            "jugaban\tjugar\n",
            "en\ten\n",
            "el\tel\n",
            "parque\tparque\n",
            ".\t.\n",
            "--------------------\n",
            "token\tlemma\n",
            "--------------------\n",
            "Las\tel\n",
            "niñas\tniña\n",
            "corrían\tcorrer\n",
            "por\tpor\n",
            "el\tel\n",
            "jardín\tjardín\n",
            ".\t.\n"
          ]
        }
      ]
    },
    {
      "cell_type": "markdown",
      "source": [
        "## Obtener etiquetas POS"
      ],
      "metadata": {
        "id": "Ob-Z2V9kkGXW"
      }
    },
    {
      "cell_type": "markdown",
      "source": [
        "El etiquetado de partes del discurso (POS) para texto en español, es la tarea de asignar a cada palabra en un texto una etiqueta que indica su categoría gramatical, como sustantivo, verbo, adjetivo, etc.\n",
        "\n",
        "Para conocer más sobre las etiquetas POS consultar [Universal POS tags](https://universaldependencies.org/docs/u/pos/).\n",
        "\n",
        "La sintaxis básica empleando `spacy`es:\n",
        "\n",
        "```python\n",
        "import spacy\n",
        "\n",
        "# Cargar el modelo de español\n",
        "nlp = spacy.load(\"es_core_web_sm\")\n",
        "\n",
        "# texto a procesar\n",
        "texto = \"La casa azul está en la colina. El auto rojo sube la colina lentamente.\"\n",
        "\n",
        "# Procesar el texto con el modelo\n",
        "doc = nlp(texto)\n",
        "\n",
        "# Recorrer las palabras del documento\n",
        "for token in doc:\n",
        "    # Obtener la etiqueta POS\n",
        "    pos_tag = token.pos_\n",
        "\n",
        "    # Imprimir la palabra y su etiqueta POS\n",
        "    print(f\"{token} - {pos_tag}\")\n",
        "\n",
        "```"
      ],
      "metadata": {
        "id": "ZkGtSqjMkL4W"
      }
    },
    {
      "cell_type": "code",
      "source": [
        "# texto a procesar\n",
        "texto = \"La casa azul está en la colina. El auto rojo sube la colina lentamente.\"\n",
        "\n",
        "# Procesar el texto con el modelo\n",
        "doc = nlp(texto, disable=[\"ner\"])\n",
        "\n",
        "# Recorrer las palabras del documento\n",
        "for token in doc:\n",
        "\n",
        "    # Obtener la etiqueta POS\n",
        "    pos_tag = token.pos_\n",
        "\n",
        "    # Imprimir la palabra y su etiqueta POS\n",
        "    print(f\"{token}\\t\\t{pos_tag}\")"
      ],
      "metadata": {
        "colab": {
          "base_uri": "https://localhost:8080/"
        },
        "id": "57Au-sqik_Kf",
        "outputId": "ca8df149-d639-480a-e000-d87aa08c3be8"
      },
      "execution_count": null,
      "outputs": [
        {
          "output_type": "stream",
          "name": "stdout",
          "text": [
            "La\t\tDET\n",
            "casa\t\tNOUN\n",
            "azul\t\tADJ\n",
            "está\t\tVERB\n",
            "en\t\tADP\n",
            "la\t\tDET\n",
            "colina\t\tNOUN\n",
            ".\t\tPUNCT\n",
            "El\t\tDET\n",
            "auto\t\tNOUN\n",
            "rojo\t\tADJ\n",
            "sube\t\tVERB\n",
            "la\t\tDET\n",
            "colina\t\tNOUN\n",
            "lentamente\t\tADV\n",
            ".\t\tPUNCT\n"
          ]
        }
      ]
    },
    {
      "cell_type": "markdown",
      "source": [
        "## Análisis de dependencias"
      ],
      "metadata": {
        "id": "-3r4LcNitKkt"
      }
    },
    {
      "cell_type": "markdown",
      "source": [
        "Un analizador de dependencias (en inglés, dependency parser) es una herramienta fundamental en el PLN que se utiliza para analizar la estructura sintáctica de una oración. A diferencia del análisis sintáctico tradicional, que se centra en la jerarquía de las palabras en una oración, el análisis de dependencias se enfoca en las relaciones entre las palabras.\n",
        "\n",
        "En el análisis de dependencias, cada palabra se considera como un nodo en un árbol, y las relaciones entre las palabras se representan como arcos que conectan los nodos. El tipo de arco indica la relación específica entre dos palabras, como por ejemplo:\n",
        "\n",
        "* **Sujeto**: El nodo que realiza la acción del verbo.\n",
        "* **Objeto directo**: El nodo que recibe la acción del verbo.\n",
        "* **Objeto indirecto**: El nodo al que se beneficia o perjudica la acción del verbo.\n",
        "* **Adjetivo**: Un nodo que modifica a un sustantivo.\n",
        "* **Adverbio**: Un nodo que modifica a un verbo, adjetivo o otro adverbio.\n",
        "\n",
        "Los analizadores de dependencias se utilizan en una amplia variedad de aplicaciones de PLN, como:\n",
        "\n",
        "* **Traducción automática**: Para comprender mejor la estructura de una oración en un idioma y traducirla con mayor precisión a otro idioma.\n",
        "* **Recuperación de información**: Para identificar y extraer información relevante de documentos de texto.\n",
        "* **Respuesta a preguntas**: Para comprender el significado de una pregunta y generar una respuesta precisa.\n",
        "* **Resumen de texto**: Para identificar las ideas principales de un texto y generar un resumen conciso.\n",
        "* **Análisis de sentimientos**: Para determinar el sentimiento o la opinión expresada en un texto.\n",
        "\n",
        "Para cononcer más sobre las **dependencias** en español [Universal Dependencies](https://universaldependencies.org/es/dep/index.html)\n"
      ],
      "metadata": {
        "id": "78GxZQhstcJQ"
      }
    },
    {
      "cell_type": "code",
      "source": [
        "from graphviz import Digraph\n",
        "\n",
        "text = \"Beatriz Gutiérrez es la esposa de AMLO.\"\n",
        "doc = nlp(text, disable=[\"ner\"])\n",
        "\n",
        "def create_dependency_tree(doc):\n",
        "    dot = Digraph()\n",
        "    for token in doc:\n",
        "        dot.node(str(token.i), f\"{token.text}\\n({token.pos_})\")\n",
        "        if token.head.i != token.i:  # token.head.i == token.i if the token is the root\n",
        "            dot.edge(str(token.head.i), str(token.i), label=token.dep_)\n",
        "    return dot\n",
        "\n",
        "dot = create_dependency_tree(doc)\n",
        "dot.render(\"dependency_tree\", format=\"png\")\n",
        "\n",
        "Image(filename=\"dependency_tree.png\")\n"
      ],
      "metadata": {
        "colab": {
          "base_uri": "https://localhost:8080/",
          "height": 379
        },
        "id": "Dt5jGyY-uE78",
        "outputId": "646857a0-18d2-4afc-a49b-c78354528df3"
      },
      "execution_count": null,
      "outputs": [
        {
          "output_type": "execute_result",
          "data": {
            "image/png": "[encoded data removed]",
            "text/plain": [
              "<IPython.core.display.Image object>"
            ]
          },
          "metadata": {},
          "execution_count": 39
        }
      ]
    },
    {
      "cell_type": "code",
      "source": [
        "text = \"Sheinbaum ex jefa de Gobierno de la Ciudad de México.\"\n",
        "doc = nlp(text, disable=[\"ner\"])\n",
        "\n",
        "dot = create_dependency_tree(doc)\n",
        "dot.render(\"dependency_tree\", format=\"png\")\n",
        "\n",
        "Image(filename=\"dependency_tree.png\")"
      ],
      "metadata": {
        "colab": {
          "base_uri": "https://localhost:8080/",
          "height": 518
        },
        "id": "xxXyLwrQweW0",
        "outputId": "db190acf-62e6-4d33-a8b7-2f4ed92b5408"
      },
      "execution_count": null,
      "outputs": [
        {
          "output_type": "execute_result",
          "data": {
            "image/png": "[encoded data removed]",
            "text/plain": [
              "<IPython.core.display.Image object>"
            ]
          },
          "metadata": {},
          "execution_count": 42
        }
      ]
    }
  ]
}