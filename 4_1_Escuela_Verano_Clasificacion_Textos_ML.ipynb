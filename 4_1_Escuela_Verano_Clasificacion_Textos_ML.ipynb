{
  "cells": [
    {
      "cell_type": "markdown",
      "metadata": {
        "id": "view-in-github",
        "colab_type": "text"
      },
      "source": [
        "<a href=\"https://colab.research.google.com/github/orlandxrf/escuela-verano/blob/main/4_1_Escuela_Verano_Clasificacion_Textos_ML.ipynb\" target=\"_parent\"><img src=\"https://colab.research.google.com/assets/colab-badge.svg\" alt=\"Open In Colab\"/></a>"
      ]
    },
    {
      "cell_type": "markdown",
      "source": [
        "<img src=\"https://raw.githubusercontent.com/orlandxrf/escuela-verano/main/img/logos.png\" height=\"100\" />\n",
        "\n",
        "<h1>Escuela de verano del Laboratorio de Estructuras y Dinámicas Sociales</h1>\n",
        "Escuela de Verano, 25-28 de Junio de 2024\n",
        "<hr>\n",
        "<h2><strong>Descubre el poder del PLN: aprende a pre-procesar, analizar y extraer información de textos<strong></h2>\n",
        "<hr>"
      ],
      "metadata": {
        "id": "oHT5goyLgg7X"
      }
    },
    {
      "cell_type": "markdown",
      "source": [
        "# Clasificación de textos"
      ],
      "metadata": {
        "id": "eJzjpxHEHqyA"
      }
    },
    {
      "cell_type": "markdown",
      "source": [
        "La clasificación de textos, también conocida como categorización de textos, es una tarea fundamental en el ámbito del PLN que consiste en asignar automáticamente una o varias etiquetas de categoría predefinidas a un documento de texto o fragmento de texto.\n",
        "\n",
        "En otras palabras, el objetivo es entrenar un modelo de aprendizaje automático para que pueda analizar el contenido y el significado de un texto y, en base a ello, determinar a cuál de las categorías establecidas pertenece."
      ],
      "metadata": {
        "id": "42BCZzNKH0Tn"
      }
    },
    {
      "cell_type": "markdown",
      "source": [
        "## Asignación de categorías\n",
        "\n",
        "Las categorías pueden ser de diversa índole, dependiendo del contexto y la aplicación específica. Algunos ejemplos comunes incluyen:\n",
        "\n",
        "* **Clasificación de correos electrónicos**: spam, no spam, promocional, personal, etc.\n",
        "\n",
        "* **Clasificación de artículos de noticias**: política, economía, deportes, tecnología, etc.\n",
        "\n",
        "* **Clasificación de opiniones de clientes**: positiva, negativa, neutral.\n",
        "\n",
        "* **Clasificación de documentos médicos**: diagnóstico, tratamiento, pronóstico, etc."
      ],
      "metadata": {
        "id": "U6RbGEisImLS"
      }
    },
    {
      "cell_type": "markdown",
      "source": [
        "## Aplicaciones\n",
        "\n",
        "La clasificación de textos tiene un amplio abanico de aplicaciones prácticas en diversos sectores, como:\n",
        "\n",
        "* **Filtrado de spam**: identificar y eliminar correos electrónicos no deseados.\n",
        "\n",
        "* **Organización de documentos**: clasificar automáticamente documentos digitales en carpetas relevantes.\n",
        "\n",
        "* **Análisis de sentimiento**: determinar la opinión general expresada en un texto.\n",
        "\n",
        "* **Soporte al cliente**: clasificar las solicitudes de asistencia y dirigirlas al departamento o agente adecuado.\n",
        "\n",
        "* **Moderación de contenido**: identificar y eliminar contenido inapropiado en foros, redes sociales, etc."
      ],
      "metadata": {
        "id": "FTzzp7m-JBcJ"
      }
    },
    {
      "cell_type": "markdown",
      "source": [
        "## Algoritmos\n",
        "\n",
        "La tarea de clasificación de textos se lleva a cabo típicamente mediante algoritmos de aprendizaje automático supervisado, los cuales se entrenan con un conjunto de datos de ejemplos de texto previamente etiquetados con las categorías correspondientes.\n",
        "\n",
        "El modelo aprende a identificar patrones y características en los textos que son discriminativos entre las diferentes categorías, y posteriormente utiliza este conocimiento para clasificar nuevos textos sin etiquetar.\n",
        "\n",
        "Existen diversos algoritmos de aprendizaje automático que pueden emplearse para la clasificación de textos, entre los más comunes encontramos:\n",
        "\n",
        "* **Naïve Bayes**: un algoritmo probabilístico basado en el teorema de Bayes.\n",
        "\n",
        "* **K-Nearest Neighbors (KNN)**: clasifica un nuevo texto en función de la categoría de los ejemplos más similares en el conjunto de entrenamiento.\n",
        "\n",
        "* **Máquinas de soporte vectorial (SVM)**: busca un hiperplano que separa de manera óptima las diferentes clases de puntos en el espacio de características.\n",
        "\n",
        "* **Redes neuronales artificiales**: modelos computacionales inspirados en el funcionamiento del cerebro humano, capaces de aprender patrones complejos a partir de datos."
      ],
      "metadata": {
        "id": "hH6O0-jfJU3L"
      }
    },
    {
      "cell_type": "markdown",
      "source": [
        "## Obtener conjunto de datos"
      ],
      "metadata": {
        "id": "-JPVMJ3WJxot"
      }
    },
    {
      "cell_type": "code",
      "source": [
        "# descargar los archivos utilizando \"wget\"\n",
        "!wget -P data/ https://raw.githubusercontent.com/orlandxrf/escuela-verano/main/data/ia_tweets.csv"
      ],
      "metadata": {
        "colab": {
          "base_uri": "https://localhost:8080/"
        },
        "id": "0PTIygDWJdVN",
        "outputId": "45ca1da6-bac8-4b0c-9f7d-14db9481c959"
      },
      "execution_count": 1,
      "outputs": [
        {
          "output_type": "stream",
          "name": "stdout",
          "text": [
            "--2024-06-26 15:42:15--  https://raw.githubusercontent.com/orlandxrf/escuela-verano/main/data/ia_tweets.csv\n",
            "Resolving raw.githubusercontent.com (raw.githubusercontent.com)... 185.199.108.133, 185.199.109.133, 185.199.110.133, ...\n",
            "Connecting to raw.githubusercontent.com (raw.githubusercontent.com)|185.199.108.133|:443... connected.\n",
            "HTTP request sent, awaiting response... 200 OK\n",
            "Length: 918376 (897K) [text/plain]\n",
            "Saving to: ‘data/ia_tweets.csv’\n",
            "\n",
            "\ria_tweets.csv         0%[                    ]       0  --.-KB/s               \ria_tweets.csv       100%[===================>] 896.85K  --.-KB/s    in 0.03s   \n",
            "\n",
            "2024-06-26 15:42:16 (26.1 MB/s) - ‘data/ia_tweets.csv’ saved [918376/918376]\n",
            "\n"
          ]
        }
      ]
    },
    {
      "cell_type": "markdown",
      "source": [
        "## Bibilotecas requeridas\n",
        "\n",
        "Una de las bibbliotecas ampliamente usadas es [scikit-learn](https://scikit-learn.org/stable/). Contiene una gran variedad de algorimos programados y listos para ser usados, además de presentar ejemplos."
      ],
      "metadata": {
        "id": "cqLvWNfQaYsJ"
      }
    },
    {
      "cell_type": "code",
      "source": [
        "# instalar scikit-learn\n",
        "# !pip install scikit-learn\n",
        "# decargar el modelo en idioma español\n",
        "!python -m spacy download es_core_news_sm"
      ],
      "metadata": {
        "colab": {
          "base_uri": "https://localhost:8080/"
        },
        "id": "WRcLAkWUaK02",
        "outputId": "ea15c6e5-3f68-4005-9664-bcca3bf4c049"
      },
      "execution_count": 2,
      "outputs": [
        {
          "output_type": "stream",
          "name": "stdout",
          "text": [
            "Collecting es-core-news-sm==3.7.0\n",
            "  Downloading https://github.com/explosion/spacy-models/releases/download/es_core_news_sm-3.7.0/es_core_news_sm-3.7.0-py3-none-any.whl (12.9 MB)\n",
            "\u001b[2K     \u001b[90m━━━━━━━━━━━━━━━━━━━━━━━━━━━━━━━━━━━━━━━━\u001b[0m \u001b[32m12.9/12.9 MB\u001b[0m \u001b[31m15.6 MB/s\u001b[0m eta \u001b[36m0:00:00\u001b[0m\n",
            "\u001b[?25hRequirement already satisfied: spacy<3.8.0,>=3.7.0 in /usr/local/lib/python3.10/dist-packages (from es-core-news-sm==3.7.0) (3.7.5)\n",
            "Requirement already satisfied: spacy-legacy<3.1.0,>=3.0.11 in /usr/local/lib/python3.10/dist-packages (from spacy<3.8.0,>=3.7.0->es-core-news-sm==3.7.0) (3.0.12)\n",
            "Requirement already satisfied: spacy-loggers<2.0.0,>=1.0.0 in /usr/local/lib/python3.10/dist-packages (from spacy<3.8.0,>=3.7.0->es-core-news-sm==3.7.0) (1.0.5)\n",
            "Requirement already satisfied: murmurhash<1.1.0,>=0.28.0 in /usr/local/lib/python3.10/dist-packages (from spacy<3.8.0,>=3.7.0->es-core-news-sm==3.7.0) (1.0.10)\n",
            "Requirement already satisfied: cymem<2.1.0,>=2.0.2 in /usr/local/lib/python3.10/dist-packages (from spacy<3.8.0,>=3.7.0->es-core-news-sm==3.7.0) (2.0.8)\n",
            "Requirement already satisfied: preshed<3.1.0,>=3.0.2 in /usr/local/lib/python3.10/dist-packages (from spacy<3.8.0,>=3.7.0->es-core-news-sm==3.7.0) (3.0.9)\n",
            "Requirement already satisfied: thinc<8.3.0,>=8.2.2 in /usr/local/lib/python3.10/dist-packages (from spacy<3.8.0,>=3.7.0->es-core-news-sm==3.7.0) (8.2.5)\n",
            "Requirement already satisfied: wasabi<1.2.0,>=0.9.1 in /usr/local/lib/python3.10/dist-packages (from spacy<3.8.0,>=3.7.0->es-core-news-sm==3.7.0) (1.1.3)\n",
            "Requirement already satisfied: srsly<3.0.0,>=2.4.3 in /usr/local/lib/python3.10/dist-packages (from spacy<3.8.0,>=3.7.0->es-core-news-sm==3.7.0) (2.4.8)\n",
            "Requirement already satisfied: catalogue<2.1.0,>=2.0.6 in /usr/local/lib/python3.10/dist-packages (from spacy<3.8.0,>=3.7.0->es-core-news-sm==3.7.0) (2.0.10)\n",
            "Requirement already satisfied: weasel<0.5.0,>=0.1.0 in /usr/local/lib/python3.10/dist-packages (from spacy<3.8.0,>=3.7.0->es-core-news-sm==3.7.0) (0.4.1)\n",
            "Requirement already satisfied: typer<1.0.0,>=0.3.0 in /usr/local/lib/python3.10/dist-packages (from spacy<3.8.0,>=3.7.0->es-core-news-sm==3.7.0) (0.12.3)\n",
            "Requirement already satisfied: tqdm<5.0.0,>=4.38.0 in /usr/local/lib/python3.10/dist-packages (from spacy<3.8.0,>=3.7.0->es-core-news-sm==3.7.0) (4.66.4)\n",
            "Requirement already satisfied: requests<3.0.0,>=2.13.0 in /usr/local/lib/python3.10/dist-packages (from spacy<3.8.0,>=3.7.0->es-core-news-sm==3.7.0) (2.31.0)\n",
            "Requirement already satisfied: pydantic!=1.8,!=1.8.1,<3.0.0,>=1.7.4 in /usr/local/lib/python3.10/dist-packages (from spacy<3.8.0,>=3.7.0->es-core-news-sm==3.7.0) (2.7.4)\n",
            "Requirement already satisfied: jinja2 in /usr/local/lib/python3.10/dist-packages (from spacy<3.8.0,>=3.7.0->es-core-news-sm==3.7.0) (3.1.4)\n",
            "Requirement already satisfied: setuptools in /usr/local/lib/python3.10/dist-packages (from spacy<3.8.0,>=3.7.0->es-core-news-sm==3.7.0) (67.7.2)\n",
            "Requirement already satisfied: packaging>=20.0 in /usr/local/lib/python3.10/dist-packages (from spacy<3.8.0,>=3.7.0->es-core-news-sm==3.7.0) (24.1)\n",
            "Requirement already satisfied: langcodes<4.0.0,>=3.2.0 in /usr/local/lib/python3.10/dist-packages (from spacy<3.8.0,>=3.7.0->es-core-news-sm==3.7.0) (3.4.0)\n",
            "Requirement already satisfied: numpy>=1.19.0 in /usr/local/lib/python3.10/dist-packages (from spacy<3.8.0,>=3.7.0->es-core-news-sm==3.7.0) (1.25.2)\n",
            "Requirement already satisfied: language-data>=1.2 in /usr/local/lib/python3.10/dist-packages (from langcodes<4.0.0,>=3.2.0->spacy<3.8.0,>=3.7.0->es-core-news-sm==3.7.0) (1.2.0)\n",
            "Requirement already satisfied: annotated-types>=0.4.0 in /usr/local/lib/python3.10/dist-packages (from pydantic!=1.8,!=1.8.1,<3.0.0,>=1.7.4->spacy<3.8.0,>=3.7.0->es-core-news-sm==3.7.0) (0.7.0)\n",
            "Requirement already satisfied: pydantic-core==2.18.4 in /usr/local/lib/python3.10/dist-packages (from pydantic!=1.8,!=1.8.1,<3.0.0,>=1.7.4->spacy<3.8.0,>=3.7.0->es-core-news-sm==3.7.0) (2.18.4)\n",
            "Requirement already satisfied: typing-extensions>=4.6.1 in /usr/local/lib/python3.10/dist-packages (from pydantic!=1.8,!=1.8.1,<3.0.0,>=1.7.4->spacy<3.8.0,>=3.7.0->es-core-news-sm==3.7.0) (4.12.2)\n",
            "Requirement already satisfied: charset-normalizer<4,>=2 in /usr/local/lib/python3.10/dist-packages (from requests<3.0.0,>=2.13.0->spacy<3.8.0,>=3.7.0->es-core-news-sm==3.7.0) (3.3.2)\n",
            "Requirement already satisfied: idna<4,>=2.5 in /usr/local/lib/python3.10/dist-packages (from requests<3.0.0,>=2.13.0->spacy<3.8.0,>=3.7.0->es-core-news-sm==3.7.0) (3.7)\n",
            "Requirement already satisfied: urllib3<3,>=1.21.1 in /usr/local/lib/python3.10/dist-packages (from requests<3.0.0,>=2.13.0->spacy<3.8.0,>=3.7.0->es-core-news-sm==3.7.0) (2.0.7)\n",
            "Requirement already satisfied: certifi>=2017.4.17 in /usr/local/lib/python3.10/dist-packages (from requests<3.0.0,>=2.13.0->spacy<3.8.0,>=3.7.0->es-core-news-sm==3.7.0) (2024.6.2)\n",
            "Requirement already satisfied: blis<0.8.0,>=0.7.8 in /usr/local/lib/python3.10/dist-packages (from thinc<8.3.0,>=8.2.2->spacy<3.8.0,>=3.7.0->es-core-news-sm==3.7.0) (0.7.11)\n",
            "Requirement already satisfied: confection<1.0.0,>=0.0.1 in /usr/local/lib/python3.10/dist-packages (from thinc<8.3.0,>=8.2.2->spacy<3.8.0,>=3.7.0->es-core-news-sm==3.7.0) (0.1.5)\n",
            "Requirement already satisfied: click>=8.0.0 in /usr/local/lib/python3.10/dist-packages (from typer<1.0.0,>=0.3.0->spacy<3.8.0,>=3.7.0->es-core-news-sm==3.7.0) (8.1.7)\n",
            "Requirement already satisfied: shellingham>=1.3.0 in /usr/local/lib/python3.10/dist-packages (from typer<1.0.0,>=0.3.0->spacy<3.8.0,>=3.7.0->es-core-news-sm==3.7.0) (1.5.4)\n",
            "Requirement already satisfied: rich>=10.11.0 in /usr/local/lib/python3.10/dist-packages (from typer<1.0.0,>=0.3.0->spacy<3.8.0,>=3.7.0->es-core-news-sm==3.7.0) (13.7.1)\n",
            "Requirement already satisfied: cloudpathlib<1.0.0,>=0.7.0 in /usr/local/lib/python3.10/dist-packages (from weasel<0.5.0,>=0.1.0->spacy<3.8.0,>=3.7.0->es-core-news-sm==3.7.0) (0.18.1)\n",
            "Requirement already satisfied: smart-open<8.0.0,>=5.2.1 in /usr/local/lib/python3.10/dist-packages (from weasel<0.5.0,>=0.1.0->spacy<3.8.0,>=3.7.0->es-core-news-sm==3.7.0) (7.0.4)\n",
            "Requirement already satisfied: MarkupSafe>=2.0 in /usr/local/lib/python3.10/dist-packages (from jinja2->spacy<3.8.0,>=3.7.0->es-core-news-sm==3.7.0) (2.1.5)\n",
            "Requirement already satisfied: marisa-trie>=0.7.7 in /usr/local/lib/python3.10/dist-packages (from language-data>=1.2->langcodes<4.0.0,>=3.2.0->spacy<3.8.0,>=3.7.0->es-core-news-sm==3.7.0) (1.2.0)\n",
            "Requirement already satisfied: markdown-it-py>=2.2.0 in /usr/local/lib/python3.10/dist-packages (from rich>=10.11.0->typer<1.0.0,>=0.3.0->spacy<3.8.0,>=3.7.0->es-core-news-sm==3.7.0) (3.0.0)\n",
            "Requirement already satisfied: pygments<3.0.0,>=2.13.0 in /usr/local/lib/python3.10/dist-packages (from rich>=10.11.0->typer<1.0.0,>=0.3.0->spacy<3.8.0,>=3.7.0->es-core-news-sm==3.7.0) (2.16.1)\n",
            "Requirement already satisfied: wrapt in /usr/local/lib/python3.10/dist-packages (from smart-open<8.0.0,>=5.2.1->weasel<0.5.0,>=0.1.0->spacy<3.8.0,>=3.7.0->es-core-news-sm==3.7.0) (1.14.1)\n",
            "Requirement already satisfied: mdurl~=0.1 in /usr/local/lib/python3.10/dist-packages (from markdown-it-py>=2.2.0->rich>=10.11.0->typer<1.0.0,>=0.3.0->spacy<3.8.0,>=3.7.0->es-core-news-sm==3.7.0) (0.1.2)\n",
            "Installing collected packages: es-core-news-sm\n",
            "Successfully installed es-core-news-sm-3.7.0\n",
            "\u001b[38;5;2m✔ Download and installation successful\u001b[0m\n",
            "You can now load the package via spacy.load('es_core_news_sm')\n",
            "\u001b[38;5;3m⚠ Restart to reload dependencies\u001b[0m\n",
            "If you are in a Jupyter or Colab notebook, you may need to restart Python in\n",
            "order to load all the package's dependencies. You can do this by selecting the\n",
            "'Restart kernel' or 'Restart runtime' option.\n"
          ]
        }
      ]
    },
    {
      "cell_type": "code",
      "source": [
        "from spacy.lang.es.stop_words import STOP_WORDS"
      ],
      "metadata": {
        "id": "NEqsEJqDgdzX"
      },
      "execution_count": 3,
      "outputs": []
    },
    {
      "cell_type": "markdown",
      "source": [
        "## Preprocesamiento\n",
        "\n",
        "En el procesamiento se aplica lo siguiente:\n",
        "\n",
        "1. Limpiar tweets\n",
        "2. Normalizar tweets\n",
        "  * Convertir a minúsculas el tweet\n",
        "  * Elimina las palabras vacías\n",
        "3. Tokenizar\n",
        "4. Extracción de caracteristicas (features)\n",
        "\n"
      ],
      "metadata": {
        "id": "dc4PlGNOKI2f"
      }
    },
    {
      "cell_type": "code",
      "source": [
        "# definir una función para preprocesar cada tweet\n",
        "import re\n",
        "\n",
        "def preprocesamiento_de_tweet(tweet):\n",
        "    # Eliminar URLs\n",
        "    tweet = re.sub(r'http\\S+|www\\S+|https\\S+', '', tweet, flags=re.MULTILINE)\n",
        "\n",
        "    # Eliminar menciones (@usuario)\n",
        "    tweet = re.sub(r'@\\w+', '', tweet)\n",
        "\n",
        "    # Eliminar hashtags (#hashtag)\n",
        "    tweet = re.sub(r'#\\w+', '', tweet)\n",
        "\n",
        "    # Eliminar caracteres especiales y puntuación\n",
        "    tweet = re.sub(r'[^\\w\\s]', '', tweet)\n",
        "\n",
        "    # Eliminar números\n",
        "    tweet = re.sub(r'\\d+', '', tweet)\n",
        "\n",
        "    # Eliminar espacios adicionales\n",
        "    tweet = re.sub(r'\\s+', ' ', tweet).strip()\n",
        "\n",
        "    # Normalizar los tweets convirtiendo a minúsculas\n",
        "    tweet = tweet.lower()\n",
        "\n",
        "    # dividir el tweet en tokens\n",
        "    words = tweet.split()\n",
        "\n",
        "    # eliminar las stopwords\n",
        "    tweet = ' '.join([word for word in words if word not in STOP_WORDS])\n",
        "\n",
        "    return tweet"
      ],
      "metadata": {
        "id": "npv4JHFKbxk6"
      },
      "execution_count": 4,
      "outputs": []
    },
    {
      "cell_type": "markdown",
      "source": [
        "## Entrenar modelo"
      ],
      "metadata": {
        "id": "gVOqBd2jLG53"
      }
    },
    {
      "cell_type": "markdown",
      "source": [
        "En esta clasificación de textos, se utiliza las Máquinas de Soporte Vectorial (SVM)."
      ],
      "metadata": {
        "id": "7DzpfTPlMkZ0"
      }
    },
    {
      "cell_type": "markdown",
      "source": [
        "### Características\n",
        "\n",
        "La definición de características (features) se refiere al proceso de extraer y transformar información relevante de un documento de texto para representarlo como un conjunto de vectores numéricos.\n",
        "\n",
        "Estos vectores, denominados vectores de características, sirven como entrada para el algoritmo SVM, el cual los utiliza para aprender a discriminar entre las diferentes categorías de texto."
      ],
      "metadata": {
        "id": "q5wWYGXwNaVh"
      }
    },
    {
      "cell_type": "markdown",
      "source": [
        "### Extracción de características:\n",
        "\n",
        "* **Bolsa de palabras**: Representar cada documento como un vector que contiene la frecuencia de aparición de cada palabra única en el corpus.\n",
        "\n",
        "* **N-gramas**: Representar cada documento como un vector que contiene la frecuencia de aparición de secuencias de n palabras contiguas (por ejemplo, bigramas, trigramas).\n",
        "\n",
        "* **TF-IDF**: Ponderar la importancia de cada palabra en un documento en función de su frecuencia en el documento y su rareza en el corpus.\n",
        "\n",
        "* **Características basadas en la posición**: Considerar la posición de las palabras en el texto para capturar información contextual."
      ],
      "metadata": {
        "id": "QDFxUvltNFyi"
      }
    },
    {
      "cell_type": "markdown",
      "source": [
        "### Leer conjunto de datos"
      ],
      "metadata": {
        "id": "G33C2L2kL4Ux"
      }
    },
    {
      "cell_type": "code",
      "source": [
        "import pandas as pd\n",
        "\n",
        "df = pd.read_csv(\"data/ia_tweets.csv\")\n",
        "\n",
        "# aplicar la función a cada renglón del DataFrame\n",
        "tweets_df = pd.DataFrame(df[\"text\"].apply(preprocesamiento_de_tweet))\n",
        "\n",
        "print(f\"Cantidad de tweets: {len(tweets_df):,}\")\n",
        "\n",
        "# eliminar renglones vacíos despues de la limpieza\n",
        "tweets_df = tweets_df[tweets_df[\"text\"] != \"\"]\n",
        "\n",
        "print(f\"Cantidad de tweets sin renglones vacíos: {len(tweets_df):,}\")\n",
        "\n",
        "# agregar la columna 'polarity' del DataFrame original al DataFrame tweets_df\n",
        "tweets_df[\"polarity\"] = df[\"polarity\"]\n",
        "\n",
        "# mostrar el DataFrame\n",
        "# tweets_df"
      ],
      "metadata": {
        "colab": {
          "base_uri": "https://localhost:8080/"
        },
        "id": "dW5EuanwbhVx",
        "outputId": "8dd6f4b7-4fd4-4c10-b519-64d80a771e70"
      },
      "execution_count": 22,
      "outputs": [
        {
          "output_type": "stream",
          "name": "stdout",
          "text": [
            "Cantidad de tweets: 4,038\n",
            "Cantidad de tweets sin renglones vacíos: 3,897\n"
          ]
        }
      ]
    },
    {
      "cell_type": "markdown",
      "source": [
        "### Visualizar distribución de las clases"
      ],
      "metadata": {
        "id": "3IpdnhVZL94z"
      }
    },
    {
      "cell_type": "code",
      "source": [
        "# graficar la distribucion de valores de la columna \"polarity\"\n",
        "import seaborn as sns\n",
        "import matplotlib.pyplot as plt\n",
        "\n",
        "def graficar_distribucion_polaridad(df):\n",
        "  sns.countplot(x=\"polarity\", data=tweets_df)\n",
        "  for p in plt.gca().patches:\n",
        "      plt.gca().annotate(f'{p.get_height():,.0f}', (p.get_x() + p.get_width() / 2., p.get_height()), ha='center', va='bottom')\n",
        "\n",
        "  plt.title(\"Distribución de Polaridad\")\n",
        "  plt.xlabel(\"Polaridad\")\n",
        "  plt.ylabel(\"Cantidad\")\n",
        "\n",
        "  plt.show()\n",
        "\n",
        "\n",
        "# graficar la distribución\n",
        "graficar_distribucion_polaridad(tweets_df)"
      ],
      "metadata": {
        "colab": {
          "base_uri": "https://localhost:8080/",
          "height": 472
        },
        "id": "9Ovf8zhsfWGK",
        "outputId": "2298ded3-da2b-4eff-a879-c313b4f7b4f9"
      },
      "execution_count": 23,
      "outputs": [
        {
          "output_type": "display_data",
          "data": {
            "text/plain": [
              "<Figure size 640x480 with 1 Axes>"
            ],
            "image/png": "[encoded data removed]"
          },
          "metadata": {}
        }
      ]
    },
    {
      "cell_type": "markdown",
      "source": [
        "### Entrenamiento"
      ],
      "metadata": {
        "id": "YMlYj2-6MEKI"
      }
    },
    {
      "cell_type": "code",
      "source": [
        "import pandas as pd\n",
        "from sklearn.feature_extraction.text import TfidfVectorizer\n",
        "from sklearn.model_selection import train_test_split\n",
        "from sklearn.svm import SVC\n",
        "from sklearn.metrics import classification_report\n",
        "import re\n",
        "\n",
        "# Extraer características usando TF-IDF\n",
        "vectorizer = TfidfVectorizer(max_features=1000)\n",
        "X = vectorizer.fit_transform(tweets_df['text']).toarray()\n",
        "y = tweets_df['polarity']\n",
        "\n",
        "# Dividir los datos en conjuntos de entrenamiento y prueba\n",
        "X_train, X_test, y_train, y_test = train_test_split(X, y, test_size=0.2, random_state=42)\n",
        "\n",
        "# Entrenar el modelo SVM\n",
        "model_tres = SVC(kernel='linear')\n",
        "model_tres.fit(X_train, y_train)\n",
        "\n",
        "# Evaluar el modelo\n",
        "y_pred = model_tres.predict(X_test)\n",
        "print(classification_report(y_test, y_pred))\n"
      ],
      "metadata": {
        "colab": {
          "base_uri": "https://localhost:8080/"
        },
        "id": "RCKvQXq7cL5L",
        "outputId": "51252d86-b662-404b-cffb-3b0a34c03342"
      },
      "execution_count": 24,
      "outputs": [
        {
          "output_type": "stream",
          "name": "stdout",
          "text": [
            "              precision    recall  f1-score   support\n",
            "\n",
            "           N       0.54      0.13      0.22       104\n",
            "         NEU       0.71      0.94      0.81       528\n",
            "           P       0.57      0.22      0.32       148\n",
            "\n",
            "    accuracy                           0.69       780\n",
            "   macro avg       0.61      0.43      0.45       780\n",
            "weighted avg       0.66      0.69      0.64       780\n",
            "\n"
          ]
        }
      ]
    },
    {
      "cell_type": "markdown",
      "source": [
        "#### Métricas"
      ],
      "metadata": {
        "id": "gkckkruxOxEF"
      }
    },
    {
      "cell_type": "markdown",
      "source": [
        "Las métricas para la clasificación de textos: **Precision**, **Recall** y **F1-score**.\n",
        "\n",
        "Imaginemos que un detective está buscando criminales en una ciudad. Para evaluar su desempeño, se utilizan tres métricas:\n",
        "\n",
        "1. **Precision**: Porcentaje de sospechosos que resultaron ser realmente criminales tras ser arrestados.\n",
        "\n",
        "  Un detective con alta precisión atrapa pocos inocentes, pero todos sus arrestos son acertados.\n",
        "\n",
        "2. **Recall**: Porcentaje de criminales que fueron identificados y arrestados por el detective.\n",
        "\n",
        "  Un detective con alto recall atrapa a muchos criminales, pero algunos inocentes podrían ser arrestados por error.\n",
        "\n",
        "3. **F1-score**: Medida que combina la precisión y el recall en un solo valor, proporcionando una visión general del desempeño del detective.\n",
        "\n",
        "Un **F1-score** alto indica un buen equilibrio entre **precision** y **recall**."
      ],
      "metadata": {
        "id": "jF2ogCXTO2rd"
      }
    },
    {
      "cell_type": "markdown",
      "source": [
        "En la clasificación de textos, estas métricas funcionan de manera similar:\n",
        "\n",
        "* **Precision**: Porcentaje de textos clasificados correctamente en una categoría específica.\n",
        "\n",
        "* **Recall**: Porcentaje de textos que pertenecen a una categoría específica y que fueron clasificados correctamente en dicha categoría.\n",
        "\n",
        "* **F1-score**: Medida que combina la precisión y el recall para la clasificación de una categoría específica."
      ],
      "metadata": {
        "id": "IAfR78qZPZ-T"
      }
    },
    {
      "cell_type": "markdown",
      "source": [
        "##### Ejemplo:\n",
        "\n",
        "Imaginemos un sistema que clasifica correos electrónicos como **spam** o no **spam**.\n",
        "\n",
        "* **Precision para spam**: Porcentaje de correos electrónicos marcados como spam que realmente son spam.\n",
        "\n",
        "* **Recall para spam**: Porcentaje de correos electrónicos que son spam y que fueron marcados correctamente como spam.\n",
        "\n",
        "* **F1-score para spam**: Medida que combina la precisión y el recall para la clasificación de spam.\n",
        "\n",
        "**Interpretación**:\n",
        "\n",
        "* **Alta precision**: El sistema clasifica la mayoría de los correos electrónicos como spam correctamente, pero algunos correos electrónicos no spam podrían ser marcados como spam por error.\n",
        "\n",
        "* **Alto recall**: El sistema identifica la mayoría de los correos electrónicos que son spam, pero algunos correos electrónicos no spam podrían ser marcados como spam por error.\n",
        "\n",
        "* **Alto F1-score**: El sistema tiene un buen equilibrio entre precisión y recall para la clasificación de spam.\n",
        "\n",
        "En general, un modelo de clasificación de texto con métricas de **precision**, **recall** y **F1-score** altas se considera un modelo de buen rendimiento.\n",
        "\n",
        "Es importante considerar las tres métricas juntas, ya que ninguna de ellas proporciona una imagen completa por sí sola."
      ],
      "metadata": {
        "id": "Y__EglfQPpEQ"
      }
    },
    {
      "cell_type": "code",
      "source": [
        "# eliminar todos los renglones donde la \"polaridad\" es igual a \"NEU\"\n",
        "tweets_df = tweets_df[tweets_df[\"polarity\"] != \"NEU\"]\n",
        "\n",
        "# graficar la distribución\n",
        "graficar_distribucion_polaridad(tweets_df)"
      ],
      "metadata": {
        "id": "eSgQg5sSjGu-",
        "colab": {
          "base_uri": "https://localhost:8080/",
          "height": 472
        },
        "outputId": "25c55118-e6fb-447b-deae-2e0d9e45a023"
      },
      "execution_count": 25,
      "outputs": [
        {
          "output_type": "display_data",
          "data": {
            "text/plain": [
              "<Figure size 640x480 with 1 Axes>"
            ],
            "image/png": "[encoded data removed]"
          },
          "metadata": {}
        }
      ]
    },
    {
      "cell_type": "code",
      "source": [
        "import pandas as pd\n",
        "from sklearn.feature_extraction.text import TfidfVectorizer\n",
        "from sklearn.model_selection import train_test_split\n",
        "from sklearn.svm import SVC\n",
        "from sklearn.metrics import classification_report\n",
        "import re\n",
        "\n",
        "# Extraer características usando TF-IDF\n",
        "vectorizer = TfidfVectorizer(max_features=1000)\n",
        "X = vectorizer.fit_transform(tweets_df['text']).toarray()\n",
        "y = tweets_df['polarity']\n",
        "\n",
        "# Dividir los datos en conjuntos de entrenamiento y prueba\n",
        "X_train, X_test, y_train, y_test = train_test_split(X, y, test_size=0.2, random_state=42)\n",
        "\n",
        "# Entrenar el modelo SVM\n",
        "model_dos = SVC(kernel='linear')\n",
        "model_dos.fit(X_train, y_train)\n",
        "\n",
        "# Evaluar el modelo\n",
        "y_pred = model_dos.predict(X_test)\n",
        "print(classification_report(y_test, y_pred))\n"
      ],
      "metadata": {
        "colab": {
          "base_uri": "https://localhost:8080/"
        },
        "outputId": "22f16480-f927-4f6d-8f76-4b4db343ee7d",
        "id": "wF3XiAUhLeOi"
      },
      "execution_count": 26,
      "outputs": [
        {
          "output_type": "stream",
          "name": "stdout",
          "text": [
            "              precision    recall  f1-score   support\n",
            "\n",
            "           N       0.69      0.76      0.72       119\n",
            "           P       0.79      0.73      0.76       147\n",
            "\n",
            "    accuracy                           0.74       266\n",
            "   macro avg       0.74      0.74      0.74       266\n",
            "weighted avg       0.74      0.74      0.74       266\n",
            "\n"
          ]
        }
      ]
    },
    {
      "cell_type": "markdown",
      "source": [
        "## Predicción"
      ],
      "metadata": {
        "id": "pVlIyr7JLnZq"
      }
    },
    {
      "cell_type": "code",
      "source": [
        "# Nuevos tweets para predecir\n",
        "new_tweets = [\n",
        "    'La IA es una amenaza para la humanidad.',\n",
        "    'El uso de la inteligencia artificial ahorra tiempo en la investigación.',\n",
        "    'Hoy en día tu trabajo sera reemplazado por una inteligencia artificial.',\n",
        "]\n",
        "\n",
        "# Preprocesar los nuevos tweets\n",
        "new_tweets_processed = [preprocesamiento_de_tweet(tweet) for tweet in new_tweets]\n",
        "\n",
        "# Transformar los nuevos tweets usando el vectorizador TF-IDF entrenado\n",
        "X_new = vectorizer.transform(new_tweets_processed).toarray()\n",
        "\n",
        "# Predecir las etiquetas de los nuevos tweets con tres polaridades (N, NEU, P)\n",
        "y_new_pred = model_tres.predict(X_new)\n",
        "\n",
        "# Imprimir las predicciones\n",
        "for tweet, label in zip(new_tweets, y_new_pred):\n",
        "    print(f'Tweet: \"{tweet}\" -> Predicción: {label}')\n"
      ],
      "metadata": {
        "colab": {
          "base_uri": "https://localhost:8080/"
        },
        "id": "jDa7Bhfij8tL",
        "outputId": "2b0ebad0-c9e4-4e12-dc9d-8e2fd4304d0f"
      },
      "execution_count": 27,
      "outputs": [
        {
          "output_type": "stream",
          "name": "stdout",
          "text": [
            "Tweet: \"La IA es una amenaza para la humanidad.\" -> Predicción: NEU\n",
            "Tweet: \"El uso de la inteligencia artificial ahorra tiempo en la investigación.\" -> Predicción: NEU\n",
            "Tweet: \"Hoy en día tu trabajo sera reemplazado por una inteligencia artificial.\" -> Predicción: NEU\n"
          ]
        }
      ]
    },
    {
      "cell_type": "code",
      "source": [
        "# Predecir las etiquetas de los nuevos tweets con tres polaridades (N, P)\n",
        "y_new_pred = model_dos.predict(X_new)\n",
        "\n",
        "# Imprimir las predicciones\n",
        "for tweet, label in zip(new_tweets, y_new_pred):\n",
        "    print(f'Tweet: \"{tweet}\" -> Predicción: {label}')\n"
      ],
      "metadata": {
        "colab": {
          "base_uri": "https://localhost:8080/"
        },
        "id": "rzp13ceVRSV0",
        "outputId": "92a28945-e6b8-425d-b531-fe9f80c17281"
      },
      "execution_count": 28,
      "outputs": [
        {
          "output_type": "stream",
          "name": "stdout",
          "text": [
            "Tweet: \"La IA es una amenaza para la humanidad.\" -> Predicción: N\n",
            "Tweet: \"El uso de la inteligencia artificial ahorra tiempo en la investigación.\" -> Predicción: P\n",
            "Tweet: \"Hoy en día tu trabajo sera reemplazado por una inteligencia artificial.\" -> Predicción: P\n"
          ]
        }
      ]
    }
  ],
  "metadata": {
    "colab": {
      "provenance": [],
      "authorship_tag": "ABX9TyPZgLls2RVMWiIEEPuMKIh6",
      "include_colab_link": true
    },
    "kernelspec": {
      "display_name": "Python 3",
      "name": "python3"
    },
    "language_info": {
      "name": "python"
    }
  },
  "nbformat": 4,
  "nbformat_minor": 0
}