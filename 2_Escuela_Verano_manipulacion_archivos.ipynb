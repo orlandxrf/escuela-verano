{
  "nbformat": 4,
  "nbformat_minor": 0,
  "metadata": {
    "colab": {
      "provenance": [],
      "authorship_tag": "ABX9TyN16dgXeh5q4U4HgueT6lt1",
      "include_colab_link": true
    },
    "kernelspec": {
      "name": "python3",
      "display_name": "Python 3"
    },
    "language_info": {
      "name": "python"
    }
  },
  "cells": [
    {
      "cell_type": "markdown",
      "metadata": {
        "id": "view-in-github",
        "colab_type": "text"
      },
      "source": [
        "<a href=\"https://colab.research.google.com/github/orlandxrf/escuela-verano/blob/main/2_Escuela_Verano_manipulacion_archivos.ipynb\" target=\"_parent\"><img src=\"https://colab.research.google.com/assets/colab-badge.svg\" alt=\"Open In Colab\"/></a>"
      ]
    },
    {
      "cell_type": "markdown",
      "source": [
        "<img src=\"https://raw.githubusercontent.com/orlandxrf/escuela-verano/main/img/logos.png\" height=\"100\" />\n",
        "\n",
        "<h1>Escuela de verano del Laboratorio de Estructuras y Dinámicas Sociales</h1>\n",
        "Escuela de Verano, 25-28 de Junio de 2024\n",
        "<hr>\n",
        "<h2><strong>Descubre el poder del PLN: aprende a pre-procesar, analizar y extraer información de textos<strong></h2>\n",
        "<hr>"
      ],
      "metadata": {
        "id": "oHT5goyLgg7X"
      }
    },
    {
      "cell_type": "markdown",
      "source": [
        "# Manipulación de archivos\n",
        "\n",
        "Python ofrece potentes herramientas para trabajar con diferentes tipos de archivos, incluyendo texto, hojas de cálculo y archivos PDF. A continuación, se presenta un tutorial básico para la manipulación de archivos `.txt`, `.csv`, .`tsv`, `.xlsx` y `.pdf` utilizando Python.\n",
        "\n",
        "\n",
        "> **NOTA**: Los archivos utilizados se pueden cargar de forma \"local\" en Google Colab. Sin embargo, Colab nos advierte cuando subimos archivos lo siguiente: **\"Se borrarán los archivos del tiempo de ejecución cuando este finalice.\"**"
      ],
      "metadata": {
        "id": "nRWiNJVb6tD_"
      }
    },
    {
      "cell_type": "markdown",
      "source": [
        "## Obtener archivos"
      ],
      "metadata": {
        "id": "5-pNTFBiGXoQ"
      }
    },
    {
      "cell_type": "markdown",
      "source": [
        "Para este taller se almacenan los archivos en [Github](https://github.com/orlandxrf/escuela-verano) adicional a todo el material usado.\n",
        "\n",
        "Para evitar subir los archivos a Google Colab cada vez que se quiera trabajar con el Notebook, se realizará el proceso de forma automática. Para la descarga de los archivos se utiliza el comando `wget`\n",
        "\n",
        "**Wget**, que significa \"World Wide Web GET\", es una utilidad de línea de comandos en sistemas operativos tipo Unix, como Linux, que se utiliza para descargar archivos de la web. Es una herramienta poderosa y versátil que permite descargar una amplia variedad de contenido.\n",
        "\n",
        "La sintaxis para descargar un archivo es la siguiente:\n",
        "\n",
        "```bash\n",
        "!wget -P data/ https://raw.githubusercontent.com/orlandxrf/escuela-verano/main/data/El_maravilloso_Mago_de_Oz.pdf\n",
        "```\n",
        "\n",
        "El resultado esperado por cada archivo descargado es similar al siguiente\n",
        "\n",
        "```bash\n",
        "--2024-06-22 18:35:06--  https://github.com/orlandxrf/escuela-verano/blob/main/data/El_maravilloso_Mago_de_Oz.pdf\n",
        "Resolving github.com (github.com)... 140.82.121.3\n",
        "Connecting to github.com (github.com)|140.82.121.3|:443... connected.\n",
        "HTTP request sent, awaiting response... 200 OK\n",
        "Length: unspecified [text/html]\n",
        "Saving to: ‘data/El_maravilloso_Mago_de_Oz.pdf’\n",
        "\n",
        "El_maravilloso_Mago     [ <=>                ] 241.79K  --.-KB/s    in 0.03s   \n",
        "\n",
        "2024-06-22 18:35:06 (8.05 MB/s) - ‘data/El_maravilloso_Mago_de_Oz.pdf’ saved [247596]\n",
        "```\n",
        "\n",
        "Es importante señalar que si la carpeta donde se desea almacenar el archivo no existe, se crea. En caso de descargar el archivo cuando previamente existe, lo que ocurre es que se sobre escribe el archivo descargado, es decir el archivo descargado reemplaza al previo, siempre y cuando tengan el mismo nombre."
      ],
      "metadata": {
        "id": "zldabsuBdNr1"
      }
    },
    {
      "cell_type": "code",
      "source": [
        "# descargar los archivos utilizando \"wget\"\n",
        "\n",
        "!wget -P data/ https://raw.githubusercontent.com/orlandxrf/escuela-verano/main/data/Escuela_de_verano.txt\n",
        "!wget -P data/ https://raw.githubusercontent.com/orlandxrf/escuela-verano/main/data/Los_Caudillos_de_1830.txt\n",
        "!wget -P data/ https://raw.githubusercontent.com/orlandxrf/escuela-verano/main/data/ia_tweets.csv\n",
        "!wget -P data/fake_news/ https://raw.githubusercontent.com/orlandxrf/escuela-verano/main/data/fake_news/dev.xlsx\n",
        "!wget -P data/fake_news/ https://raw.githubusercontent.com/orlandxrf/escuela-verano/main/data/fake_news/train.xlsx\n",
        "!wget -P data/fake_news/ https://raw.githubusercontent.com/orlandxrf/escuela-verano/main/data/fake_news/test.xlsx\n",
        "!wget -P data/ https://github.com/orlandxrf/escuela-verano/blob/main/data/El_maravilloso_Mago_de_Oz.pdf"
      ],
      "metadata": {
        "colab": {
          "base_uri": "https://localhost:8080/"
        },
        "id": "0PTIygDWJdVN",
        "outputId": "5b92e596-d5b3-4c48-c8e0-4fc6918725b7"
      },
      "execution_count": null,
      "outputs": [
        {
          "output_type": "stream",
          "name": "stdout",
          "text": [
            "--2024-06-22 18:35:06--  https://github.com/orlandxrf/escuela-verano/blob/main/data/El_maravilloso_Mago_de_Oz.pdf\n",
            "Resolving github.com (github.com)... 140.82.121.3\n",
            "Connecting to github.com (github.com)|140.82.121.3|:443... connected.\n",
            "HTTP request sent, awaiting response... 200 OK\n",
            "Length: unspecified [text/html]\n",
            "Saving to: ‘data/El_maravilloso_Mago_de_Oz.pdf’\n",
            "\n",
            "El_maravilloso_Mago     [ <=>                ] 241.79K  --.-KB/s    in 0.03s   \n",
            "\n",
            "2024-06-22 18:35:06 (8.05 MB/s) - ‘data/El_maravilloso_Mago_de_Oz.pdf’ saved [247596]\n",
            "\n"
          ]
        }
      ]
    },
    {
      "cell_type": "markdown",
      "source": [
        "## Archivos `.txt`"
      ],
      "metadata": {
        "id": "G82BrDxk63dj"
      }
    },
    {
      "cell_type": "markdown",
      "source": [
        "Los archivos de texto que se usarán son:\n",
        "\n",
        "* [Escuela de verano](https://raw.githubusercontent.com/orlandxrf/escuela-verano/main/data/Escuela_de_verano.txt)\n",
        "* [Los Caudillos de 1830](https://raw.githubusercontent.com/orlandxrf/escuela-verano/main/data/Los_Caudillos_de_1830.txt). por Pío Baroja\n",
        "\n",
        "\n",
        "> Fuente: [Project Gutenberg](https://www.gutenberg.org/browse/languages/es)"
      ],
      "metadata": {
        "id": "4kEKu6pRdioS"
      }
    },
    {
      "cell_type": "markdown",
      "source": [
        "### Lectura y escritura de archivos\n",
        "\n",
        "Para leer archivos en Python se deben abrir el archivo con la instrucción `open`, `read` para obtener el contenido del archivo y `close` para cerrar correctamente el archvio abierto para la lectura.\n",
        "\n",
        "Sin embargo, con el bloque `with` Python proporciona una forma segura y eficiente de **abrir** y **cerrar** archivos. Al utilizar `with`, no es necesario preocuparse por cerrar manualmente el archivo, ya que se cierra automáticamente al finalizar el bloque. Esto simplifica el código y reduce la posibilidad de errores.\n",
        "\n",
        "La sintaxis empleada es:\n",
        "\n",
        "```python\n",
        "ruta_archivo = \"ruta/al/archivo.txt\"\n",
        "\n",
        "with open(ruta_archivo, 'r') as archivo:\n",
        "    # El código para leer el archivo se escribe dentro del bloque \"with\"\n",
        "    pass\n",
        "```"
      ],
      "metadata": {
        "id": "kqGRXysfBHei"
      }
    },
    {
      "cell_type": "markdown",
      "source": [
        "### Opciones para lectura de archivos\n",
        "\n",
        "1. Dentro del bloque `with`, puedes utilizar el método `read()` del objeto archivo para leer **todo el contenido** del archivo como una cadena de texto.\n",
        "\n",
        "  ```python\n",
        "  with open(ruta_archivo, 'r') as archivo:\n",
        "      contenido = archivo.read()\n",
        "      print(contenido)\n",
        "  ```\n",
        "\n",
        "2. Si deseas leer el archivo **línea por línea**, puedes utilizar el método `readline()`. Este método devuelve cada línea del archivo como una cadena de texto.\n",
        "\n",
        "  ```python\n",
        "  with open(ruta_archivo, 'r') as archivo:\n",
        "    linea = archivo.readline()\n",
        "    while linea:\n",
        "        print(linea)\n",
        "        linea = archivo.readline()\n",
        "  ```\n",
        "\n",
        "3. Otra variante para leer un archivo **línea por línea** empleando un ciclo `for`. Esta opción de lectura es recomendable. La sintaxis es:\n",
        "\n",
        "  ```python\n",
        "  with open(ruta_archivo, 'r') as archivo:\n",
        "    for linea in archivo:\n",
        "        print(linea)\n",
        "  ```"
      ],
      "metadata": {
        "id": "8EjZXsbNCbbe"
      }
    },
    {
      "cell_type": "markdown",
      "source": [
        "#### Práctica: Opción de lectura 1"
      ],
      "metadata": {
        "id": "L9fSJNREUdaC"
      }
    },
    {
      "cell_type": "code",
      "source": [
        "ruta_archivo = \"data/Escuela_de_verano.txt\" # ruta del archivo local en Google Colab\n",
        "\n",
        "with open(ruta_archivo, 'r') as archivo:\n",
        "   contenido = archivo.read()\n",
        "   print(contenido)\n",
        "\n",
        "# salida esperada:\n",
        "# Escuela de verano del Laboratorio de Estructuras y Dinámicas Sociales\n",
        "# 25-28 de Junio de 2024\n",
        "# Descubre el poder del PLN: aprende a pre-procesar, analizar y extraer información de textos"
      ],
      "metadata": {
        "colab": {
          "base_uri": "https://localhost:8080/"
        },
        "id": "7PlKWjzCUhOF",
        "outputId": "e5364e86-03fc-4afe-a160-cb906cf7d185"
      },
      "execution_count": null,
      "outputs": [
        {
          "output_type": "stream",
          "name": "stdout",
          "text": [
            "Escuela de verano del Laboratorio de Estructuras y Dinámicas Sociales\n",
            "25-28 de Junio de 2024\n",
            "Descubre el poder del PLN: aprende a pre-procesar, analizar y extraer información de textos\n",
            "\n",
            "\n"
          ]
        }
      ]
    },
    {
      "cell_type": "markdown",
      "source": [
        "#### Práctica: Opción de lectura 2"
      ],
      "metadata": {
        "id": "uZ91w3j0U6Tn"
      }
    },
    {
      "cell_type": "code",
      "source": [
        "ruta_archivo = \"data/Escuela_de_verano.txt\" # ruta del archivo local en Google Colab\n",
        "\n",
        "with open(ruta_archivo, 'r') as archivo:\n",
        " linea = archivo.readline()\n",
        " while linea:\n",
        "     print(linea)\n",
        "     linea = archivo.readline()\n",
        "\n",
        "# salida esperada:\n",
        "# Escuela de verano del Laboratorio de Estructuras y Dinámicas Sociales\n",
        "#\n",
        "# 25-28 de Junio de 2024\n",
        "#\n",
        "# Descubre el poder del PLN: aprende a pre-procesar, analizar y extraer información de textos"
      ],
      "metadata": {
        "colab": {
          "base_uri": "https://localhost:8080/"
        },
        "id": "2BoZx6fdU80Z",
        "outputId": "4ffb5bd9-0fd0-4bab-a66d-42ee8988ea9e"
      },
      "execution_count": null,
      "outputs": [
        {
          "output_type": "stream",
          "name": "stdout",
          "text": [
            "Escuela de verano del Laboratorio de Estructuras y Dinámicas Sociales\n",
            "\n",
            "25-28 de Junio de 2024\n",
            "\n",
            "Descubre el poder del PLN: aprende a pre-procesar, analizar y extraer información de textos\n",
            "\n",
            "\n",
            "\n"
          ]
        }
      ]
    },
    {
      "cell_type": "markdown",
      "source": [
        "#### Práctica: Opción de letura 3"
      ],
      "metadata": {
        "id": "2Ved_j0MVoC5"
      }
    },
    {
      "cell_type": "code",
      "source": [
        "ruta_archivo = \"data/Escuela_de_verano.txt\" # ruta del archivo local en Google Colab\n",
        "\n",
        "with open(ruta_archivo) as f:\n",
        "  for linea in f:\n",
        "    print(linea)\n",
        "\n",
        "# la salida esperada es la siguiente:\n",
        "# Escuela de verano del Laboratorio de Estructuras y Dinámicas Sociales\n",
        "#\n",
        "# 25-28 de Junio de 2024\n",
        "#\n",
        "# Descubre el poder del PLN: aprende a pre-procesar, analizar y extraer información de textos"
      ],
      "metadata": {
        "colab": {
          "base_uri": "https://localhost:8080/"
        },
        "id": "dpeAnH0tEO5o",
        "outputId": "aea73401-dbe2-4f85-ce52-548148deacae"
      },
      "execution_count": null,
      "outputs": [
        {
          "output_type": "stream",
          "name": "stdout",
          "text": [
            "Escuela de verano del Laboratorio de Estructuras y Dinámicas Sociales\n",
            "\n",
            "25-28 de Junio de 2024\n",
            "\n",
            "Descubre el poder del PLN: aprende a pre-procesar, analizar y extraer información de textos\n",
            "\n",
            "\n",
            "\n"
          ]
        }
      ]
    },
    {
      "cell_type": "markdown",
      "source": [
        "#### Ejercicios\n",
        "\n",
        "1. Leer el archivo `Escuela_de_verano.txt`.\n",
        "2. Almacenar el contenido en una lista. Cada renglón (línea) del archivo será un elemento de la lista.\n",
        "3. Imprimir la lista con el contenido almacenado utilizando un ciclo `for`."
      ],
      "metadata": {
        "id": "zakgyG_rRdbE"
      }
    },
    {
      "cell_type": "code",
      "source": [
        "# Ejecicios\n",
        "ruta_archivo = \"data/Escuela_de_verano.txt\" # ruta del archivo local en Google Colab\n",
        "renglones = [] # la variable almacenará cada una de las líneas del archivo\n",
        "\n",
        "with open(ruta_archivo) as f:\n",
        "  # aqui va el código para leer el archivo (elegir cualquira de las opciones vistas)\n",
        "  pass\n",
        "\n",
        "# imprimir la cantidad de renglones almacenados en la lista \"renglones\"\n",
        "print(len(renglones))\n",
        "# salida esperada:\n",
        "3\n",
        "\n",
        "# iterar por medio de un bucle \"for\" la lista contenido e imprimir su contenido.\n",
        "# for ...\n",
        "\n",
        "# salida esperada\n",
        "# Escuela de verano del Laboratorio de Estructuras y Dinámicas Sociales\n",
        "# 25-28 de Junio de 2024\n",
        "# Descubre el poder del PLN: aprende a pre-procesar, analizar y extraer información de textos"
      ],
      "metadata": {
        "colab": {
          "base_uri": "https://localhost:8080/"
        },
        "id": "sfxX2zvbR0M4",
        "outputId": "b4e0ba3a-49d0-4f13-88b6-3c6c8bfe1dc6"
      },
      "execution_count": null,
      "outputs": [
        {
          "output_type": "stream",
          "name": "stdout",
          "text": [
            "3\n",
            "Escuela de verano del Laboratorio de Estructuras y Dinámicas Sociales\n",
            "25-28 de Junio de 2024\n",
            "Descubre el poder del PLN: aprende a pre-procesar, analizar y extraer información de textos\n"
          ]
        }
      ]
    },
    {
      "cell_type": "markdown",
      "source": [
        "### Opciones de escritura\n",
        "\n",
        "Python ofrece métodos sencillos y eficientes para guardar información en archivos de texto plano. A continuación, se presentan opciones que describe los diferentes enfoques para lograr esto:\n",
        "\n",
        "1. Escribir en un **archivo nuevo**. Para crear un archivo de texto nuevo y escribir contenido en él, se utiliza la función `open()` junto con el modo `\"w\"`:\n",
        "\n",
        "```python\n",
        "ruta_archivo = 'nuevos/mi_archivo.txt'\n",
        "\n",
        "with open(ruta_archivo, 'w') as f:\n",
        "  f.write('Esta es una línea de texto\\n')\n",
        "  f.write('Otra línea de texto\\n')\n",
        "```\n",
        "\n",
        "2. Anexar contenido a un **archivo existente**. Para agregar información al final de un archivo existente, se utiliza el modo `\"a\"`:\n",
        "\n",
        "```python\n",
        "ruta_archivo = 'nuevos/mi_archivo.txt'\n",
        "\n",
        "with open(ruta_archivo, 'a') as f:\n",
        "  f.write('Más texto para agregar\\n')\n",
        "\n",
        "```\n",
        "\n",
        "3. Escribir líneas de texto individualmente. Es posible escribir líneas de texto individuales utilizando el método `writelines()`:\n",
        "\n",
        "```python\n",
        "ruta_archivo = 'nuevos/mi_archivo.txt'\n",
        "\n",
        "lineas = ['Primera línea\\n', 'Segunda línea\\n', 'Tercera línea\\n']\n",
        "\n",
        "with open(ruta_archivo, 'w') as f:\n",
        "  f.writelines(lineas)\n",
        "\n",
        "```"
      ],
      "metadata": {
        "id": "XyFSNV40XUNO"
      }
    },
    {
      "cell_type": "markdown",
      "source": [
        "#### Práctica: Opción escritura 1"
      ],
      "metadata": {
        "id": "1YXnI1uxajEZ"
      }
    },
    {
      "cell_type": "code",
      "source": [
        "# Opción de escriura para un nuevo archivo\n",
        "\n",
        "ruta_archivo_nuevo = \"data/prueba_escritura.txt\"\n",
        "\n",
        "with open(ruta_archivo_nuevo, 'w') as f:\n",
        "  # importante, agregar el carcater de nueva línea \"\\n\" al final de cada renglón.\n",
        "  f.write('Esta es la primera línea de texto.')\n",
        "  f.write(' Esta línea pertenece a la primera, aquí se agrega el caracter de nueva línea.\\n')\n",
        "  f.write('Segunda línea de texto.\\n')\n"
      ],
      "metadata": {
        "id": "6Kz2QqV-azHm"
      },
      "execution_count": null,
      "outputs": []
    },
    {
      "cell_type": "markdown",
      "source": [
        "#### Práctica: Opción escritura 2"
      ],
      "metadata": {
        "id": "UE3uQNJab1Qh"
      }
    },
    {
      "cell_type": "code",
      "source": [
        "# Opción de escriura para agregar datos a un archivo previamente creado\n",
        "\n",
        "ruta_archivo_nuevo = \"data/prueba_escritura.txt\"\n",
        "\n",
        "with open(ruta_archivo_nuevo, 'a') as f:\n",
        "  f.write('Esta es la 3ra línea de texto.\\n')\n",
        "  f.write('\\n') # esta es una línea en blanco\n",
        "  f.write('5ta línea de texto.\\n')\n"
      ],
      "metadata": {
        "id": "PJB6W9Qib6Qk"
      },
      "execution_count": null,
      "outputs": []
    },
    {
      "cell_type": "markdown",
      "source": [
        "#### Práctica: Opción escritura 3"
      ],
      "metadata": {
        "id": "7yTte7YpcjbH"
      }
    },
    {
      "cell_type": "code",
      "source": [
        "# Opción de escriura para un nuevo archivo\n",
        "\n",
        "ruta_archivo_nuevo = \"data/prueba_escritura.txt\"\n",
        "\n",
        "lineas = ['Primera línea\\n', 'Segunda línea\\n', 'Tercera línea\\n']\n",
        "\n",
        "with open(ruta_archivo_nuevo, 'w') as f:\n",
        "  f.writelines(lineas)"
      ],
      "metadata": {
        "id": "KdwGD9KrcpJZ"
      },
      "execution_count": null,
      "outputs": []
    },
    {
      "cell_type": "markdown",
      "source": [
        "## Archivos `.csv`"
      ],
      "metadata": {
        "id": "03YPoaJV7qE9"
      }
    },
    {
      "cell_type": "markdown",
      "source": [
        "[Conjunto de datos de análisis de tweets de IA](https://raw.githubusercontent.com/orlandxrf/escuela-verano/main/data/ia_tweets.csv)\n",
        "\n",
        "Para leer archivos\n",
        "\n",
        "Fuente: [Zenodo](https://doi.org/10.5281/zenodo.10821485)"
      ],
      "metadata": {
        "id": "SC3oThtmdmxn"
      }
    },
    {
      "cell_type": "markdown",
      "source": [
        "### Lectura y escritura de archivos `.csv` y `.tsv`\n",
        "\n",
        "Para leer y escribir archivos con el formato `.csv` y `.tsv` se utiliza la biblioteca de Python `pandas`.\n",
        "\n",
        "Pandas es una biblioteca de Python ampliamente utilizada para el análisis de datos. Permite trabajar con datos tabulares de forma eficiente, incluyendo la **lectura** y **escritura** de archivos CSV. Para realizar estas operaciones de forma sencilla se utilizan las funciones `read_csv()` y `to_csv()`."
      ],
      "metadata": {
        "id": "MXrkn37Mdqi1"
      }
    },
    {
      "cell_type": "markdown",
      "source": [
        "### Instalar `pandas`\n",
        "\n",
        "Para utilizar la biblioteca `pandas` es necesario instalar la biblioteca con el comando `pip` en la consola.\n",
        "\n"
      ],
      "metadata": {
        "id": "tJc4VZEDe_mI"
      }
    },
    {
      "cell_type": "code",
      "source": [
        "# utilizar el comando pip para realizar la instalación\n",
        "# -U indica que se instale la versión más reciente\n",
        "\n",
        "!pip install -U pandas"
      ],
      "metadata": {
        "colab": {
          "base_uri": "https://localhost:8080/"
        },
        "id": "oMJ5z5j-fYhD",
        "outputId": "1b2dbf70-6307-478d-a579-0c61a41b11bf"
      },
      "execution_count": null,
      "outputs": [
        {
          "output_type": "stream",
          "name": "stdout",
          "text": [
            "Requirement already satisfied: pandas in /usr/local/lib/python3.10/dist-packages (2.0.3)\n",
            "Collecting pandas\n",
            "  Downloading pandas-2.2.2-cp310-cp310-manylinux_2_17_x86_64.manylinux2014_x86_64.whl (13.0 MB)\n",
            "\u001b[2K     \u001b[90m━━━━━━━━━━━━━━━━━━━━━━━━━━━━━━━━━━━━━━━━\u001b[0m \u001b[32m13.0/13.0 MB\u001b[0m \u001b[31m39.3 MB/s\u001b[0m eta \u001b[36m0:00:00\u001b[0m\n",
            "\u001b[?25hRequirement already satisfied: numpy>=1.22.4 in /usr/local/lib/python3.10/dist-packages (from pandas) (1.25.2)\n",
            "Requirement already satisfied: python-dateutil>=2.8.2 in /usr/local/lib/python3.10/dist-packages (from pandas) (2.8.2)\n",
            "Requirement already satisfied: pytz>=2020.1 in /usr/local/lib/python3.10/dist-packages (from pandas) (2023.4)\n",
            "Requirement already satisfied: tzdata>=2022.7 in /usr/local/lib/python3.10/dist-packages (from pandas) (2024.1)\n",
            "Requirement already satisfied: six>=1.5 in /usr/local/lib/python3.10/dist-packages (from python-dateutil>=2.8.2->pandas) (1.16.0)\n",
            "Installing collected packages: pandas\n",
            "  Attempting uninstall: pandas\n",
            "    Found existing installation: pandas 2.0.3\n",
            "    Uninstalling pandas-2.0.3:\n",
            "      Successfully uninstalled pandas-2.0.3\n",
            "\u001b[31mERROR: pip's dependency resolver does not currently take into account all the packages that are installed. This behaviour is the source of the following dependency conflicts.\n",
            "cudf-cu12 24.4.1 requires pandas<2.2.2dev0,>=2.0, but you have pandas 2.2.2 which is incompatible.\n",
            "google-colab 1.0.0 requires pandas==2.0.3, but you have pandas 2.2.2 which is incompatible.\u001b[0m\u001b[31m\n",
            "\u001b[0mSuccessfully installed pandas-2.2.2\n"
          ]
        }
      ]
    },
    {
      "cell_type": "markdown",
      "source": [
        "### Lectura de archivos\n",
        "\n",
        "Para leer un archivo CSV o TSV y almacenarlo en un `DataFrame` de Pandas, se utiliza la función `read_csv()`. La sintaxis básica es la siguiente:\n",
        "\n",
        "```python\n",
        "import pandas as pd # importar la biblioteca pandas con el prefijo pd\n",
        "\n",
        "# para leer un archivo en formato CSV\n",
        "df_csv = pd.read_csv('nombre_archivo.csv')\n",
        "\n",
        "# para leer un archivo en formato TSV\n",
        "df_tsv = pd.read_csv('nombre_archivo.csv', sep='\\t')\n",
        "```"
      ],
      "metadata": {
        "id": "eemLHSvWfuBy"
      }
    },
    {
      "cell_type": "markdown",
      "source": [
        "#### Práctica: Lectura de archivo"
      ],
      "metadata": {
        "id": "SVgLdfADgktV"
      }
    },
    {
      "cell_type": "code",
      "source": [
        "# Nota: la importación de bibliotecas debe realizarse sólo una vez,\n",
        "# se recomienda importar todas las bibliotecas al inicio del Notebook\n",
        "\n",
        "# importar la biblioteca pandas\n",
        "import pandas as pd\n",
        "\n",
        "ruta_archivo_csv = \"data/ia_tweets.csv\"\n",
        "\n",
        "# leer el archivo CSV y almacenar el DataFrame en la variable df\n",
        "df = pd.read_csv(ruta_archivo_csv)\n",
        "\n",
        "# visualizarel contenido del archivo, escribiendo el nombre de la variable que contiene el DataFrame\n",
        "# df"
      ],
      "metadata": {
        "id": "Lfiwakwbgrb8"
      },
      "execution_count": null,
      "outputs": []
    },
    {
      "cell_type": "code",
      "source": [
        "# mostrar el número de columnas del archivo y cuales son\n",
        "print(df.columns)\n",
        "print(f\"\\n{len(df.columns)} columnas en el archivo: {ruta_archivo_csv}\")"
      ],
      "metadata": {
        "colab": {
          "base_uri": "https://localhost:8080/"
        },
        "id": "ufDSEAH1hsJ1",
        "outputId": "2bb6c672-3ca7-406f-f87b-b621ac59647c"
      },
      "execution_count": null,
      "outputs": [
        {
          "output_type": "stream",
          "name": "stdout",
          "text": [
            "Index(['ID', 'text', 'polarity', 'favorite_count', 'retweet_count',\n",
            "       'user_followers_count', 'user_friends_count', 'user_favourites_count',\n",
            "       'user_statuses_count', 'user_verified', 'user_has_extended_profile',\n",
            "       'user_is_translator', 'user_protected', 'user_default_profile'],\n",
            "      dtype='object')\n",
            "\n",
            "14 columnas en el archivo: data/ia_tweets.csv\n"
          ]
        }
      ]
    },
    {
      "cell_type": "code",
      "source": [
        "# conocer la cantidad de tweets y columnas del archivo\n",
        "print(df.shape)\n",
        "print(f\"{df.shape[0]:,} tweets\")\n",
        "print(f\"{df.shape[1]} columnas\")"
      ],
      "metadata": {
        "colab": {
          "base_uri": "https://localhost:8080/"
        },
        "id": "afI2KaedjOnF",
        "outputId": "81fea7f1-762a-4146-dafa-bd6e2a0ae77c"
      },
      "execution_count": null,
      "outputs": [
        {
          "output_type": "stream",
          "name": "stdout",
          "text": [
            "(4038, 14)\n",
            "4,038 tweets\n",
            "14 columnas\n"
          ]
        }
      ]
    },
    {
      "cell_type": "code",
      "source": [
        "# conocer cuales son las polaridades (columna polarity) y la cantidad por cada una de ellas\n",
        "polaridades = df['polarity'].value_counts()\n",
        "print(polaridades)"
      ],
      "metadata": {
        "colab": {
          "base_uri": "https://localhost:8080/"
        },
        "id": "9qBPgDB_jnYr",
        "outputId": "c41ff705-284e-4b85-da89-ed71139f4dfa"
      },
      "execution_count": null,
      "outputs": [
        {
          "output_type": "stream",
          "name": "stdout",
          "text": [
            "polarity\n",
            "NEU    2689\n",
            "P       757\n",
            "N       592\n",
            "Name: count, dtype: int64\n"
          ]
        }
      ]
    },
    {
      "cell_type": "markdown",
      "source": [
        "### Escritura de archivos\n",
        "\n",
        "Para escribir un `DataFrame` en un archivo CSV, se utiliza el método `to_csv()` del `DataFrame`.\n",
        "\n",
        "Un `DataFrame` de Pandas es una estructura de datos bidimensional similar a una hoja de cálculo de Excel. Está compuesto por filas y columnas, donde cada fila representa un registro de datos y cada columna representa una variable específica. Los `DataFrames` son una herramienta fundamental para el análisis y manipulación de datos en Python, ya que permiten almacenar, organizar y procesar grandes conjuntos de datos de manera eficiente.\n",
        "\n",
        "Para escribir un archivo `csv` es necesario contar con un `DataFrame`. De la lista de `ciudades` y `poblaciones`:\n",
        "\n",
        "```python\n",
        "ciudades = [\"Ciudad de México\", \"Guadalajara\", \"Monterrey\"]\n",
        "poblaciones = [22500000, 5346000, 1700000]\n",
        "```\n",
        "\n",
        "Se crea un `DataFrame` a partir de estas **listas**, utilizando la siguiente sintaxis:\n",
        "\n",
        "```python\n",
        "# Creación del DataFrame\n",
        "df = pd.DataFrame({'Ciudad': ciudades, 'Población': poblaciones})\n",
        "\n",
        "# visualizar el DataFrame creado\n",
        "print(df)\n",
        "\n",
        "# salida esperada:\n",
        "\n",
        "#     Ciudad  Población\n",
        "# 0  Ciudad de México  22500000\n",
        "# 1      Guadalajara     5346000\n",
        "# 2        Monterrey     1700000\n",
        "```\n",
        "\n",
        "En este ejemplo, se ha creado un `DataFrame` con dos columnas: `\"Ciudad\"` y `\"Población\"`, donde cada fila representa una ciudad y su población correspondiente.\n",
        "\n",
        "También se puede crear un `DataFrame` a partir de un **diccionario** de Python. Ahora se tiene un diccionario donde cada clave es el nombre de una ciudad y su valor correspondiente es un diccionario con información adicional como la región y el país:\n",
        "\n",
        "```python\n",
        "datos_ciudades = {\n",
        "    \"Ciudad de México\": {\"Región\": \"Centro\", \"País\": \"México\"},\n",
        "    \"Guadalajara\": {\"Región\": \"Occidente\", \"País\": \"México\"},\n",
        "    \"Monterrey\": {\"Región\": \"Noreste\", \"País\": \"México\"}\n",
        "}\n",
        "```\n",
        "\n",
        "Para crear un `DataFrame` a partir de este diccionario, se puede utilizar la siguiente sintaxis:\n",
        "\n",
        "```python\n",
        "# Creación del DataFrame\n",
        "df = pd.DataFrame(datos_ciudades)\n",
        "\n",
        "# Visualización del DataFrame\n",
        "print(df)\n",
        "\n",
        "# salida esperada:\n",
        "\n",
        "#                 Región        País\n",
        "# Ciudad de México  Centro      México\n",
        "# Guadalajara    Occidente    México\n",
        "# Monterrey       Noreste    México\n",
        "```\n",
        "\n",
        "Una vez que se tiene un `DataFrame` creado, para escribir su contenido en un archivo CSV, se utiliza el método `to_csv()` del `DataFrame`. La sintaxis básica es la siguiente:\n",
        "\n",
        "\n",
        "```python\n",
        "# almacena un DataFrame en formato CSV\n",
        "dataframe.to_csv('nombre_archivo.csv', index=False)\n",
        "\n",
        "# almacena un DataFrame en formato TSV\n",
        "dataframe.to_csv('nombre_archivo.tsv', sep='\\t', index=False)\n",
        "```\n",
        "\n"
      ],
      "metadata": {
        "id": "tNfXZBkylKRQ"
      }
    },
    {
      "cell_type": "markdown",
      "source": [
        "#### Práctica: Escritura de archivos"
      ],
      "metadata": {
        "id": "76De7_K3lgUG"
      }
    },
    {
      "cell_type": "code",
      "source": [
        "ruta_guardar_csv = \"data/prueba_escritura.csv\"\n",
        "\n",
        "# listas con información\n",
        "ciudades = [\"Ciudad de México\", \"Guadalajara\", \"Monterrey\"]\n",
        "poblaciones = [22500000, 5346000, 1700000]\n",
        "\n",
        "# crear el DataFrame\n",
        "df = pd.DataFrame({'Ciudad': ciudades, 'Población': poblaciones})\n",
        "\n",
        "# guardar el contenido del DataFrame\n",
        "df.to_csv(ruta_guardar_csv, index=False)\n",
        "\n",
        "print(f\"Se guardó el DataFrame en el archivo: '{ruta_guardar_csv}'\")\n"
      ],
      "metadata": {
        "colab": {
          "base_uri": "https://localhost:8080/"
        },
        "id": "qcPJRnMElkMp",
        "outputId": "31d0e7e0-1c58-4740-b332-5dae1b3100de"
      },
      "execution_count": null,
      "outputs": [
        {
          "output_type": "stream",
          "name": "stdout",
          "text": [
            "Se guardó el DataFrame en el archivo: 'data/prueba_escritura.csv'\n"
          ]
        }
      ]
    },
    {
      "cell_type": "markdown",
      "source": [
        "## Archivos `.xlsx`"
      ],
      "metadata": {
        "id": "yj4FpviOP0zD"
      }
    },
    {
      "cell_type": "markdown",
      "source": [
        "[El corpus español de noticias falsas](https://github.com/orlandxrf/escuela-verano/tree/main/data/fake_news)\n",
        "\n",
        "\n",
        "> Fuente: [FakeNewsCorpusSpanish](https://github.com/jpposadas/FakeNewsCorpusSpanish)"
      ],
      "metadata": {
        "id": "Ifko5ODyrEcx"
      }
    },
    {
      "cell_type": "markdown",
      "source": [
        "`pandas` es una biblioteca de Python ampliamente utilizada para el análisis de datos. Si bien su enfoque principal es trabajar con datos tabulares en formato CSV, también permite leer y escribir archivos Excel (`.xlsx`) utilizando la extensión pandas-xlsx. Para realizar estas operaciones de forma sencilla se utilizan las funciones `read_excel()` y `to_excel()`."
      ],
      "metadata": {
        "id": "Xt_vCUQErHWj"
      }
    },
    {
      "cell_type": "markdown",
      "source": [
        "### Lectura de archivos Excel\n",
        "\n",
        "Para leer un archivo Excel y almacenarlo en un DataFrame de Pandas, se utiliza la función `read_excel()`. La sintaxis básica es la siguiente:\n",
        "\n",
        "```python\n",
        "# Lectura del archivo \"data.xlsx\"\n",
        "dataframe = pd.read_excel('data.xlsx')\n",
        "```"
      ],
      "metadata": {
        "id": "EnHdaZxarhQc"
      }
    },
    {
      "cell_type": "markdown",
      "source": [
        "#### Práctica: Lectura de archivos"
      ],
      "metadata": {
        "id": "ZKeMMJURrzHn"
      }
    },
    {
      "cell_type": "code",
      "source": [
        "ruta_archivo_excel = \"data/fake_news/dev.xlsx\"\n",
        "\n",
        "# lectura del archivo \"data.xlsx\" en la hoja por defecto\n",
        "df = pd.read_excel(ruta_archivo_excel)\n",
        "\n",
        "# lectura de una hoja específica por nombre\n",
        "# df = pd.read_excel(ruta_archivo_excel, sheet_name='Hoja de datos') # 'Hoja1', 'Hoja2'\n",
        "\n",
        "# lectura de una hoja por índice (posición)\n",
        "# df = pd.read_excel(ruta_archivo_excel, sheet_name=0)\n",
        "\n",
        "# print(df.head(5))\n",
        "\n",
        "print(df.shape)\n",
        "print(df.columns)"
      ],
      "metadata": {
        "id": "J7kXbdwqMi7j",
        "colab": {
          "base_uri": "https://localhost:8080/"
        },
        "outputId": "5c6dfd39-0278-46df-d7c7-45a30d948661"
      },
      "execution_count": null,
      "outputs": [
        {
          "output_type": "stream",
          "name": "stdout",
          "text": [
            "(295, 7)\n",
            "Index(['Id', 'Category', 'Topic', 'Source', 'Headline', 'Text', 'Link'], dtype='object')\n"
          ]
        }
      ]
    },
    {
      "cell_type": "markdown",
      "source": [
        "### Escritura de archivos Excel\n",
        "\n",
        "Para escribir un DataFrame en un archivo Excel, se utiliza el método `to_excel()` del `DataFrame`. La sintaxis básica es la siguiente:\n",
        "\n",
        "```python\n",
        "dataframe.to_excel('nombre_archivo.xlsx', index=False)\n",
        "```\n"
      ],
      "metadata": {
        "id": "zR1Fzf3ptPHh"
      }
    },
    {
      "cell_type": "markdown",
      "source": [
        "#### Práctica: Escritura archivos"
      ],
      "metadata": {
        "id": "l1O3y241tnSY"
      }
    },
    {
      "cell_type": "code",
      "source": [
        "ruta_guardar_csv = \"data/prueba_escritura.xlsx\"\n",
        "\n",
        "# listas con información\n",
        "ciudades = [\"Ciudad de México\", \"Guadalajara\", \"Monterrey\"]\n",
        "poblaciones = [22500000, 5346000, 1700000]\n",
        "\n",
        "# crear el DataFrame\n",
        "df = pd.DataFrame({'Ciudad': ciudades, 'Población': poblaciones})\n",
        "\n",
        "# guardar el contenido del DataFrame por \"default\"\n",
        "df.to_excel(ruta_guardar_csv, index=False)\n",
        "\n",
        "# guardar el contenido del DataFrame en la hoja \"nombre_hoja\"\n",
        "# df.to_excel(ruta_guardar_csv, index=False, sheet_name='nombre_hoja')\n",
        "\n",
        "# adicionalmente se puedes escribir varios DataFrame al mismo archivo en diferentes hojas\n",
        "# df1.to_excel('data/arhivo_multiple_hojas.xlsx', sheet_name='Hoja1')\n",
        "# df2.to_excel('data/arhivo_multiple_hojas.xlsx', sheet_name='Hoja2')\n",
        "\n",
        "\n",
        "print(f\"Se guardó el DataFrame en el archivo: '{ruta_guardar_csv}'\")"
      ],
      "metadata": {
        "colab": {
          "base_uri": "https://localhost:8080/"
        },
        "id": "amAqlaCUtwHH",
        "outputId": "f010fe04-9e50-4cf4-898c-3e9107500947"
      },
      "execution_count": null,
      "outputs": [
        {
          "output_type": "stream",
          "name": "stdout",
          "text": [
            "Se guardó el DataFrame en el archivo: 'data/prueba_escritura.xlsx'\n"
          ]
        }
      ]
    }
  ]
}